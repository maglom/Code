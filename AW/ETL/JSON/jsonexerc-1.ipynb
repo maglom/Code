{
 "cells": [
  {
   "cell_type": "markdown",
   "metadata": {},
   "source": [
    "\n",
    "## Exercises JSON \n",
    "\n",
    "Given the file users.json\n",
    "1. Load the file to a dict in Python\n"
   ]
  },
  {
   "cell_type": "code",
   "execution_count": 4,
   "metadata": {},
   "outputs": [
    {
     "name": "stdout",
     "output_type": "stream",
     "text": [
      "[{'id': 1, 'name': 'Mysil Bergsprekken', 'hobbies': ['Cars', 'Skiing'], 'birthdate': '1995-02-01'}, {'id': 2, 'name': 'Reodor Felgen', 'hobbies': ['Cars', 'Grand Prix'], 'birthdate': '1992-01-07'}, {'id': 3, 'name': 'Rudolf Blodstrupmoen', 'hobbies': ['Cars', 'Sabotaging'], 'birthdate': '1988-02-27'}]\n"
     ]
    }
   ],
   "source": [
    "import json\n",
    "with open('users.json', 'r') as f:\n",
    "    dic = json.load(f)\n",
    "print(dic)"
   ]
  },
  {
   "cell_type": "markdown",
   "metadata": {},
   "source": [
    "2. Create a function all_names(user_dict) that accepts a dict as input and returns all names as a list\n",
    "   I.e it should return [\"Mysil Bergsprekken\", \"Reodor Felgen\", \"Rudolf Blodstrupmoen\"]\n"
   ]
  },
  {
   "cell_type": "code",
   "execution_count": 6,
   "metadata": {},
   "outputs": [
    {
     "name": "stdout",
     "output_type": "stream",
     "text": [
      "['Mysil Bergsprekken', 'Reodor Felgen', 'Rudolf Blodstrupmoen']\n"
     ]
    }
   ],
   "source": [
    "def all_names(dicts):\n",
    "    ls = []\n",
    "    for i in dicts:\n",
    "        ls.append(i['name'])\n",
    "    return ls\n",
    "print(all_names(dic))"
   ]
  },
  {
   "cell_type": "markdown",
   "metadata": {},
   "source": [
    "3. Create a function find_hobbies(user_dict, hobby). It should return the name of all users that has the given hobby.\n",
    "   I.e find_hobbies(user_dict, \"Cars\") should return [\"Mysil Bergsprekken\", \"Reodor Felgen\", \"Rudolf Blodstrupmoen\"], while find_hobbies(user_dict, \"Grand Prix\") should return [\"Reodor Felgen\"] \n"
   ]
  },
  {
   "cell_type": "code",
   "execution_count": 9,
   "metadata": {},
   "outputs": [
    {
     "name": "stdout",
     "output_type": "stream",
     "text": [
      "['Reodor Felgen']\n"
     ]
    }
   ],
   "source": [
    "def find_hobbies(dicts, hobby):\n",
    "    ls = []\n",
    "    for dic in dicts:\n",
    "        if hobby in dic['hobbies']:\n",
    "            ls.append(dic['name'])\n",
    "    return ls\n",
    "print(find_hobbies(dic, 'Grand Prix'))"
   ]
  },
  {
   "cell_type": "markdown",
   "metadata": {},
   "source": [
    "5. Create a new function create_hobby_dict(user_dict) that returns a dictionary that lists each name of each hobby with hobby as the key.\n",
    "   create_hobby_dict(user_dict) should return\n",
    "   {\n",
    "    \"Cars\" : [\"Mysil Bergsprekken\", \"Reodor Felgen\", \"Rudolf Blodstrupmoen\"],\n",
    "    \"Grand Prix\" : [\"Reodor Felgen\"],\n",
    "    \"Sabotaging\" : [\"Rudolf Blodstrupmoen\"],\n",
    "   }\n"
   ]
  },
  {
   "cell_type": "code",
   "execution_count": 26,
   "metadata": {},
   "outputs": [
    {
     "name": "stdout",
     "output_type": "stream",
     "text": [
      "{'Sabotaging': ['Rudolf Blodstrupmoen'], 'Cars': ['Mysil Bergsprekken', 'Reodor Felgen', 'Rudolf Blodstrupmoen'], 'Skiing': ['Mysil Bergsprekken'], 'Grand Prix': ['Reodor Felgen']}\n"
     ]
    }
   ],
   "source": [
    "def create_hobby_dict(dicts):\n",
    "    new_dic = {}\n",
    "    ls = set()\n",
    "    for dic in dicts:\n",
    "        for hobby in (dic['hobbies']):\n",
    "            ls.add(hobby)\n",
    "    \n",
    "    for hobby in ls:\n",
    "        for dic in dicts:\n",
    "            if hobby in dic['hobbies']:\n",
    "                if hobby in new_dic:\n",
    "                    new_dic[hobby].append(dic['name'])\n",
    "                else:\n",
    "                    new_dic[hobby] = [dic['name']]\n",
    "                \n",
    "    return new_dic\n",
    "\n",
    "print(create_hobby_dict(dic))\n",
    "            "
   ]
  },
  {
   "cell_type": "markdown",
   "metadata": {},
   "source": [
    "6. Write the new dict you just created to a new json file `hobbies.json`."
   ]
  },
  {
   "cell_type": "code",
   "execution_count": 29,
   "metadata": {},
   "outputs": [],
   "source": [
    "with open('hobbies.json', 'w') as f:\n",
    "    json.dump(create_hobby_dict(dic), f)\n"
   ]
  },
  {
   "cell_type": "code",
   "execution_count": null,
   "metadata": {},
   "outputs": [],
   "source": []
  }
 ],
 "metadata": {
  "kernelspec": {
   "display_name": "Python 3.9.1 64-bit",
   "language": "python",
   "name": "python3"
  },
  "language_info": {
   "codemirror_mode": {
    "name": "ipython",
    "version": 3
   },
   "file_extension": ".py",
   "mimetype": "text/x-python",
   "name": "python",
   "nbconvert_exporter": "python",
   "pygments_lexer": "ipython3",
   "version": "3.9.1"
  },
  "orig_nbformat": 4,
  "vscode": {
   "interpreter": {
    "hash": "397704579725e15f5c7cb49fe5f0341eb7531c82d19f2c29d197e8b64ab5776b"
   }
  }
 },
 "nbformat": 4,
 "nbformat_minor": 2
}
