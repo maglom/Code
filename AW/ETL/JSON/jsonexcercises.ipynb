{
 "cells": [
  {
   "cell_type": "markdown",
   "metadata": {},
   "source": [
    "# JSON exercises\n",
    "\n",
    "## 1 - Remembering the ingredients for your favorite recipes\n",
    "\n",
    "You love to cook and know many great recipes almost by heart. Unfortunately you often forget the correct amounts of ingredients you need and end up not having enough when you are actually cooking.\n"
   ]
  },
  {
   "cell_type": "markdown",
   "metadata": {},
   "source": [
    "\n",
    "0. How would you represent this recipe using a dictionary? What should be the keys and values? Discuss with your classmates.\n"
   ]
  },
  {
   "cell_type": "code",
   "execution_count": 18,
   "metadata": {},
   "outputs": [
    {
     "name": "stdout",
     "output_type": "stream",
     "text": [
      "{'Taco': {'Cheese': 5, 'Meat': 10, 'Onion': 0}, 'Cake': {'Flour': 50, 'Butter': 10, 'Egg': 5}}\n"
     ]
    }
   ],
   "source": [
    "import json\n",
    "import os\n",
    "\n",
    "recipes = {\n",
    "    'Taco': {\n",
    "        'Cheese': 5,\n",
    "        'Meat': 10,\n",
    "        'Onion': 0\n",
    "    },\n",
    "    'Cake': {\n",
    "        'Flour': 50,\n",
    "        'Butter': 10,\n",
    "        'Egg': 5\n",
    "    }\n",
    "}\n",
    "print(recipes)"
   ]
  },
  {
   "cell_type": "markdown",
   "metadata": {},
   "source": [
    "\n",
    "1. Create a simple script that uses `input()` to gather ingredients and amounts needed in a dictionary.\n"
   ]
  },
  {
   "cell_type": "code",
   "execution_count": 19,
   "metadata": {},
   "outputs": [
    {
     "name": "stdout",
     "output_type": "stream",
     "text": [
      "{'Water': '100', 'Salt': '1', 'Pepper': '3', 'Meat': '10'}\n"
     ]
    }
   ],
   "source": [
    "dic = {}\n",
    "\n",
    "while True:\n",
    "    key = input('Input ingredients: ')\n",
    "    value = input('Input amount: ')\n",
    "    if key == 'exit' or value == 'exit':\n",
    "        break\n",
    "\n",
    "    dic[key] = value\n",
    "\n",
    "print(dic)\n",
    "    \n"
   ]
  },
  {
   "cell_type": "markdown",
   "metadata": {},
   "source": [
    "\n",
    "2. Save the dictionary to a JSON file. Make sure to also ask the user for the recipe's name so you can use that in the filename and collect files in the folder `recipe_archive`.\n"
   ]
  },
  {
   "cell_type": "code",
   "execution_count": 20,
   "metadata": {},
   "outputs": [],
   "source": [
    "name = input('Name this recipe: ')\n",
    "with open(f'recipe_archive/{name}.json', 'w') as file:\n",
    "    json.dump(dic, file)\n"
   ]
  },
  {
   "cell_type": "markdown",
   "metadata": {},
   "source": [
    "3. Now write another script that takes an argument (you can accept input to a python script by using `sys.argv`) about the recipe you are trying to remember. The script should then load the matching JSON-file from `recipe_archive` and give a friendly printout on the terminal about which ingredients you will need. Consider a format of\n",
    "\n",
    "```\n",
    "For pancakes you will need:\n",
    "300ml of milk\n",
    "100g of flour\n",
    "5 tbsp of sunflower oil\n",
    "a pinch of salt\n",
    "```\n"
   ]
  },
  {
   "cell_type": "code",
   "execution_count": 34,
   "metadata": {},
   "outputs": [
    {
     "name": "stdout",
     "output_type": "stream",
     "text": [
      "For Cake you will need:\n",
      "12 ml/pieces/dl/gram of Egg\n",
      "5 ml/pieces/dl/gram of Milk\n",
      "100 ml/pieces/dl/gram of Flour\n",
      "\n"
     ]
    }
   ],
   "source": [
    "recipe = 'Cake.json' #input(f''''What recipe would you like?{os.listdir('recipe_archive')}''')\n",
    "\n",
    "with open(f'recipe_archive/{recipe}', 'r') as file:\n",
    "    dic = json.load(file)\n",
    "\n",
    "string = f'''For {recipe.strip('.json')} you will need:\\n'''\n",
    "for key, value in dic.items():\n",
    "    string += f'''{value} ml/pieces/dl/gram of {key}\\n'''\n",
    "\n",
    "print(string)"
   ]
  },
  {
   "cell_type": "markdown",
   "metadata": {},
   "source": [
    "\n",
    "3. (Bonus) This is actually quite useful so you want to also keep the actual cooking instructions saved along with your ingredients lists. After finishing the ingredients list also ask the user for if they have the cooking instructions ready and accept a filename (e.g. `how_to_cook_risotto.txt`) as input. Read the file and store the content in an additional field of your dictionary under the key `instructions.`\n"
   ]
  },
  {
   "cell_type": "code",
   "execution_count": 47,
   "metadata": {},
   "outputs": [
    {
     "name": "stdout",
     "output_type": "stream",
     "text": [
      "{'Taco': {'Cheese': 5, 'Meat': 10, 'Onion': 0}, 'Cake': {'Flour': 50, 'Butter': 10, 'Egg': 5}, 'Instructions': 'For Cake you will need:\\n12 ml/pieces/dl/gram of Egg\\n5 ml/pieces/dl/gram of Milk\\n100 ml/pieces/dl/gram of Flour\\n\\nDu må knuse egga\\ngunne ovnen \\nrøre melet\\nDu må knuse egga\\ngunne ovnen \\nrøre melet\\nDu må knuse egga\\ngunne ovnen \\nrøre melet\\nDu må knuse egga\\ngunne ovnen \\nrøre melet\\nDu må knuse egga\\ngunne ovnen \\nrøre melet\\nknuse koed\\nbanke bif\\nsalte pepre\\nDu må knuse egga\\ngunne ovnen \\nrøre melet\\nDu må knuse egga\\ngunne ovnen \\nrøre melet'}\n"
     ]
    }
   ],
   "source": [
    "filename = input('Do you have the cooking instructions? What is the filename: ')\n",
    "\n",
    "with open(filename, 'r') as file:\n",
    "    instr = file.readlines()\n",
    "\n",
    "with open(f'''recipe_archive/{filename.strip('.txt')}.json''', 'r') as file:\n",
    "    json_recipe = json.load(file)\n",
    "\n",
    "string += '\\n'\n",
    "for i in instr:\n",
    "    string += i\n",
    "\n",
    "json_recipe['Instructions'] = string\n",
    "\n",
    "print(json_recipe)\n",
    "\n",
    "with open(f'recipe_archive/{recipe}', 'w') as file:\n",
    "   json.dump(json_recipe, file)\n",
    "\n",
    "\n"
   ]
  },
  {
   "cell_type": "markdown",
   "metadata": {},
   "source": [
    "4. You realise that creating so many files is a bit tricky and filenames are not always as nice as the actual names of a dish, so you decide to move everything into a single JSON and create a dict of dicts using the recipe names as the keys and the ingredients dicts as the values.\n"
   ]
  }
 ],
 "metadata": {
  "kernelspec": {
   "display_name": "Python 3.9.1 64-bit",
   "language": "python",
   "name": "python3"
  },
  "language_info": {
   "codemirror_mode": {
    "name": "ipython",
    "version": 3
   },
   "file_extension": ".py",
   "mimetype": "text/x-python",
   "name": "python",
   "nbconvert_exporter": "python",
   "pygments_lexer": "ipython3",
   "version": "3.9.1"
  },
  "orig_nbformat": 4,
  "vscode": {
   "interpreter": {
    "hash": "397704579725e15f5c7cb49fe5f0341eb7531c82d19f2c29d197e8b64ab5776b"
   }
  }
 },
 "nbformat": 4,
 "nbformat_minor": 2
}
