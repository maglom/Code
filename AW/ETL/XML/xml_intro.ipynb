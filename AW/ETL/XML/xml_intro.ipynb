{
 "cells": [
  {
   "cell_type": "code",
   "execution_count": 2,
   "metadata": {},
   "outputs": [],
   "source": [
    "# This is the package we will be using for interacting with xml\n",
    "from lxml import etree\n",
    "import csv"
   ]
  },
  {
   "cell_type": "code",
   "execution_count": 3,
   "metadata": {},
   "outputs": [
    {
     "name": "stdout",
     "output_type": "stream",
     "text": [
      "b'<root/>\\n'\n"
     ]
    }
   ],
   "source": [
    "# All XML objects have a root element\n",
    "root = etree.Element(\"root\")\n",
    "\n",
    "# Lets define a function that makes it a bit easier to visualize the tree\n",
    "def print_tree(root):\n",
    "    print(etree.tostring(root, pretty_print=True))\n",
    "\n",
    "# We can use the function like this:\n",
    "print_tree(root)"
   ]
  },
  {
   "cell_type": "code",
   "execution_count": 4,
   "metadata": {},
   "outputs": [
    {
     "name": "stdout",
     "output_type": "stream",
     "text": [
      "b'<root>\\n  <child1/>\\n  <child2/>\\n  <child3/>\\n</root>\\n'\n"
     ]
    }
   ],
   "source": [
    "# We can add elements to the root by using SubElement\n",
    "etree.SubElement(root, \"child1\")\n",
    "etree.SubElement(root, \"child2\")\n",
    "etree.SubElement(root, \"child3\")\n",
    "\n",
    "print_tree(root)"
   ]
  },
  {
   "cell_type": "code",
   "execution_count": 5,
   "metadata": {},
   "outputs": [
    {
     "name": "stdout",
     "output_type": "stream",
     "text": [
      "<Element child1 at 0x7fdd67c90040>\n",
      "child1\n",
      "<Element child2 at 0x7fdd67c90100>\n",
      "child2\n",
      "<Element child3 at 0x7fdd67c90480>\n",
      "child3\n"
     ]
    }
   ],
   "source": [
    "# We can iterate over all the children of a node by using a for loop\n",
    "\n",
    "for child in root:\n",
    "    print(child) # This will print the object, i.e <Element child1 at 0x1d5c17f0080\n",
    "    print(child.tag) # This will print the child's name (for instance \"child1\")\n",
    "\n",
    "    "
   ]
  },
  {
   "cell_type": "code",
   "execution_count": 6,
   "metadata": {},
   "outputs": [
    {
     "name": "stdout",
     "output_type": "stream",
     "text": [
      "<Element to at 0x7fdd67cb3fc0>\n",
      "<Element from at 0x7fdd67cb3980>\n",
      "<Element heading at 0x7fdd67c90480>\n",
      "<Element body at 0x7fdd67c90040>\n"
     ]
    }
   ],
   "source": [
    "# We can also use the lxml package to read xml files into a tree object\n",
    "# Download this file https://www.w3schools.com/xml/note.xml and place it in the same folder as this notebook \n",
    "\n",
    "# First we have to open the file and get the xml as a string\n",
    "def xml_from_file(filename):\n",
    "    with open(filename, \"r\", encoding=\"utf-8\") as f:\n",
    "        xmlstring = f.read()\n",
    "        return etree.fromstring(xmlstring.encode())\n",
    "\n",
    "# Lets try to see if we can read a simple xml string\n",
    "root = xml_from_file(\"note.xml\")\n",
    "# We can see that we are able to print its children\n",
    "for child in root:\n",
    "    print(child)\n"
   ]
  },
  {
   "cell_type": "code",
   "execution_count": 7,
   "metadata": {},
   "outputs": [
    {
     "name": "stdout",
     "output_type": "stream",
     "text": [
      "to Tove\n",
      "from Jani\n",
      "heading Reminder\n",
      "body Don't forget me this weekend!\n"
     ]
    }
   ],
   "source": [
    "# We can also access the elements using its tags:\n",
    "for child in root:\n",
    "    print(child.tag, child.text)"
   ]
  },
  {
   "cell_type": "code",
   "execution_count": 8,
   "metadata": {},
   "outputs": [
    {
     "name": "stdout",
     "output_type": "stream",
     "text": [
      "to Tove\n"
     ]
    }
   ],
   "source": [
    "# If you want a specific field for all children, you can use iter\n",
    "for child in root.iter(\"to\"):\n",
    "    print(child.tag, child.text)"
   ]
  },
  {
   "cell_type": "code",
   "execution_count": 9,
   "metadata": {},
   "outputs": [
    {
     "name": "stdout",
     "output_type": "stream",
     "text": [
      "PLANT [<Element COMMON at 0x7fdd67cb3600>, <Element BOTANICAL at 0x7fdd66c20a00>, <Element ZONE at 0x7fdd66c207c0>, <Element LIGHT at 0x7fdd66c20700>, <Element PRICE at 0x7fdd66c20740>, <Element AVAILABILITY at 0x7fdd66c20b80>]\n",
      "PLANT [<Element COMMON at 0x7fdd66c20a80>, <Element BOTANICAL at 0x7fdd66c20f80>, <Element ZONE at 0x7fdd66c20a00>, <Element LIGHT at 0x7fdd66c20980>, <Element PRICE at 0x7fdd66c207c0>, <Element AVAILABILITY at 0x7fdd66c20700>]\n"
     ]
    }
   ],
   "source": [
    "# ... but this was just a reaally small xml file\n",
    "# Lets try with a bigger one: https://www.w3schools.com/xml/plant_catalog.xml \n",
    "# We can reuse the functions we created above\n",
    "root = xml_from_file(\"plant_catalog.xml\")\n",
    "for child in root[0:2]: # Print the first two children\n",
    "    print(child.tag, child.getchildren())\n",
    "\n"
   ]
  },
  {
   "cell_type": "code",
   "execution_count": 10,
   "metadata": {},
   "outputs": [
    {
     "name": "stdout",
     "output_type": "stream",
     "text": [
      "Bloodroot\n",
      "Columbine\n",
      "Marsh Marigold\n",
      "Cowslip\n",
      "Dutchman's-Breeches\n",
      "Ginger, Wild\n",
      "Hepatica\n",
      "Liverleaf\n",
      "Jack-In-The-Pulpit\n",
      "Mayapple\n",
      "Phlox, Woodland\n",
      "Phlox, Blue\n",
      "Spring-Beauty\n",
      "Trillium\n",
      "Wake Robin\n",
      "Violet, Dog-Tooth\n",
      "Trout Lily\n",
      "Adder's-Tongue\n",
      "Anemone\n",
      "Grecian Windflower\n",
      "Bee Balm\n",
      "Bergamot\n",
      "Black-Eyed Susan\n",
      "Buttercup\n",
      "Crowfoot\n",
      "Butterfly Weed\n",
      "Cinquefoil\n",
      "Primrose\n",
      "Gentian\n",
      "Blue Gentian\n",
      "Jacob's Ladder\n",
      "Greek Valerian\n",
      "California Poppy\n",
      "Shooting Star\n",
      "Snakeroot\n",
      "Cardinal Flower\n"
     ]
    }
   ],
   "source": [
    "# Lets get the common names of all plants:\n",
    "for child in root.iter(\"COMMON\"):\n",
    "    print(child.text)"
   ]
  },
  {
   "cell_type": "code",
   "execution_count": 11,
   "metadata": {},
   "outputs": [
    {
     "name": "stdout",
     "output_type": "stream",
     "text": [
      "COMMON Bloodroot\n",
      "BOTANICAL Sanguinaria canadensis\n",
      "ZONE 4\n",
      "LIGHT Mostly Shady\n",
      "PRICE $2.44\n",
      "AVAILABILITY 031599\n"
     ]
    }
   ],
   "source": [
    "# From the output above we can see that this xml is deeper - it has children that has children!\n",
    "# Lets try to print a single child:\n",
    "\n",
    "for child in root[0]: #Select only the first child of root and print its children\n",
    "    print(child.tag, child.text)\n"
   ]
  },
  {
   "cell_type": "code",
   "execution_count": 12,
   "metadata": {},
   "outputs": [
    {
     "name": "stdout",
     "output_type": "stream",
     "text": [
      "[{'COMMON': 'Bloodroot', 'BOTANICAL': 'Sanguinaria canadensis', 'ZONE': '4', 'LIGHT': 'Mostly Shady', 'PRICE': '$2.44', 'AVAILABILITY': '031599'}, {'COMMON': 'Bloodroot', 'BOTANICAL': 'Sanguinaria canadensis', 'ZONE': '4', 'LIGHT': 'Mostly Shady', 'PRICE': '$2.44', 'AVAILABILITY': '031599'}, {'COMMON': 'Bloodroot', 'BOTANICAL': 'Sanguinaria canadensis', 'ZONE': '4', 'LIGHT': 'Mostly Shady', 'PRICE': '$2.44', 'AVAILABILITY': '031599'}]\n"
     ]
    }
   ],
   "source": [
    "# Now that we know what a single plant looks like, we can try to loop through every child and map it to a dict\n",
    "# We will end up with a list of dicts, which is perfect for our csv.DictWriter! \n",
    "\n",
    "rows = []\n",
    "for plant in root:\n",
    "    plantdict = {} # Create a new plant dict for each row\n",
    "    for attributes in plant:\n",
    "        # print(attributes.tag, attributes.text)\n",
    "        plantdict[attributes.tag] = attributes.text\n",
    "        rows.append(plantdict)\n",
    "print(rows[0:3])# Print some of the rows as a demo\n"
   ]
  },
  {
   "cell_type": "code",
   "execution_count": 13,
   "metadata": {},
   "outputs": [],
   "source": [
    "# Now that we have a list of dicts we can use it to write to a csv\n",
    "\n",
    "import csv \n",
    "\n",
    "with open(\"plants.csv\", \"w\") as f:\n",
    "    writer = csv.DictWriter(f, fieldnames=[\"COMMON\", \"BOTANICAL\", \"PRICE\", \"LIGHT\", \"AVAILABILITY\", \"ZONE\"])\n",
    "    writer.writeheader()\n",
    "    writer.writerows(rows)"
   ]
  },
  {
   "cell_type": "markdown",
   "metadata": {},
   "source": [
    "## Exercise\n",
    "\n",
    "1. Load [this](https://www.w3schools.com/xml/simple.xml) CSV and play around with it. Try to print some of the elements to get a feel of how this XML looks.\n"
   ]
  },
  {
   "cell_type": "code",
   "execution_count": 14,
   "metadata": {},
   "outputs": [
    {
     "name": "stdout",
     "output_type": "stream",
     "text": [
      "<Element breakfast_menu at 0x7fdd67ce7540>\n",
      "<Element food at 0x7fdd66878740>\n",
      "<Element name at 0x7fdd66878680>\n",
      "<Element price at 0x7fdd66878240>\n",
      "<Element description at 0x7fdd668789c0>\n",
      "<Element calories at 0x7fdd66878680>\n",
      "<Element food at 0x7fdd668782c0>\n",
      "<Element name at 0x7fdd668789c0>\n",
      "<Element price at 0x7fdd67cdc680>\n",
      "<Element description at 0x7fdd66878680>\n",
      "<Element calories at 0x7fdd668789c0>\n",
      "<Element food at 0x7fdd66c2a600>\n",
      "<Element name at 0x7fdd66878680>\n",
      "<Element price at 0x7fdd67cdc680>\n",
      "<Element description at 0x7fdd668789c0>\n",
      "<Element calories at 0x7fdd66878680>\n",
      "<Element food at 0x7fdd66878740>\n",
      "<Element name at 0x7fdd668789c0>\n",
      "<Element price at 0x7fdd67cdc680>\n",
      "<Element description at 0x7fdd66878680>\n",
      "<Element calories at 0x7fdd668789c0>\n",
      "<Element food at 0x7fdd668782c0>\n",
      "<Element name at 0x7fdd66878c80>\n",
      "<Element price at 0x7fdd66878680>\n",
      "<Element description at 0x7fdd668789c0>\n",
      "<Element calories at 0x7fdd66878c80>\n"
     ]
    }
   ],
   "source": [
    "root = xml_from_file('simple.xml')\n",
    "print(root)\n",
    "for child in root:\n",
    "    print(child)\n",
    "    for i in child:\n",
    "        print(i)\n"
   ]
  },
  {
   "cell_type": "markdown",
   "metadata": {},
   "source": [
    "2. Iterate over all the children of the root node and print the Food name of each menu item. \n"
   ]
  },
  {
   "cell_type": "code",
   "execution_count": 15,
   "metadata": {},
   "outputs": [
    {
     "name": "stdout",
     "output_type": "stream",
     "text": [
      "Belgian Waffles\n",
      "Strawberry Belgian Waffles\n",
      "Berry-Berry Belgian Waffles\n",
      "French Toast\n",
      "Homestyle Breakfast\n"
     ]
    }
   ],
   "source": [
    "for child in root.iter('name'):\n",
    "    print(child.text)"
   ]
  },
  {
   "cell_type": "markdown",
   "metadata": {},
   "source": [
    "3. Create a function that accepts input from the user (using input()) and finds the Food item that has the same name as the one the user specified. E.g if the user writes \"French Toast\", the function should return \n",
    "```\n",
    "name: French Toast\n",
    "price: $4.50\n",
    "description: Thick slices made from our homemade sourdough bread\n",
    "calories: 600\n",
    "```\n",
    "If there is no item with the same name, it should return\n",
    "```\n",
    "Sorry we don't have that food!\n",
    "```\n"
   ]
  },
  {
   "cell_type": "code",
   "execution_count": 16,
   "metadata": {},
   "outputs": [
    {
     "name": "stdout",
     "output_type": "stream",
     "text": [
      "Sorry we dont have that food\n"
     ]
    }
   ],
   "source": [
    "input_food = input('Enter food: ')\n",
    "found = None\n",
    "for c,food in enumerate(root.iter('name')):\n",
    "    if input_food == food.text:\n",
    "        found = True\n",
    "        for i in root[c].getchildren():\n",
    "            print(f'''{i.tag}: {i.text}''')\n",
    "if not found:\n",
    "    print('Sorry we dont have that food')"
   ]
  },
  {
   "cell_type": "markdown",
   "metadata": {},
   "source": [
    "4. Iterate through all the items to find the item with the highest price.\n",
    "Hint: `\"$4.50\".strip('$')` removes the dollar part of the string, so that you can convert it to float for comparison\n"
   ]
  },
  {
   "cell_type": "code",
   "execution_count": 17,
   "metadata": {},
   "outputs": [
    {
     "name": "stdout",
     "output_type": "stream",
     "text": [
      "$8.95\n"
     ]
    }
   ],
   "source": [
    "max = 0\n",
    "for child in root.iter('price'):\n",
    "    if float(child.text.strip('$')) > max:\n",
    "        max = float(child.text.strip('$'))\n",
    "print(f'''${max}''')"
   ]
  },
  {
   "cell_type": "markdown",
   "metadata": {},
   "source": [
    "5. Write all the Food that costs over $6 on the menu to a CSV with columns `name, price, description,calories`"
   ]
  },
  {
   "cell_type": "code",
   "execution_count": 43,
   "metadata": {},
   "outputs": [],
   "source": [
    "dic = {}\n",
    "nic = {}\n",
    "ls = []\n",
    "max = 6\n",
    "for c,child in enumerate(root.iter('price')):\n",
    "    if float(child.text.strip('$')) > max:\n",
    "        for i in root[c].getchildren():\n",
    "            ls.append((i.tag))\n",
    "            dic[i.tag] = i.text\n",
    "        nic[c] = dic\n",
    "        dic = {}\n",
    "\n",
    "for i in nic:\n",
    "    nic[i]['price'] = f'''{float(nic[i]['price'])*10} NOK'''\n",
    "\n",
    "with open('menu.csv', 'w') as f:\n",
    "    writer = csv.DictWriter(f, fieldnames=set(ls))\n",
    "    writer.writeheader()\n",
    "    for key,value in nic.items():\n",
    "        writer.writerow(value)\n"
   ]
  }
 ],
 "metadata": {
  "kernelspec": {
   "display_name": "Python 3.9.1 64-bit",
   "language": "python",
   "name": "python3"
  },
  "language_info": {
   "codemirror_mode": {
    "name": "ipython",
    "version": 3
   },
   "file_extension": ".py",
   "mimetype": "text/x-python",
   "name": "python",
   "nbconvert_exporter": "python",
   "pygments_lexer": "ipython3",
   "version": "3.9.1"
  },
  "orig_nbformat": 4,
  "vscode": {
   "interpreter": {
    "hash": "397704579725e15f5c7cb49fe5f0341eb7531c82d19f2c29d197e8b64ab5776b"
   }
  }
 },
 "nbformat": 4,
 "nbformat_minor": 2
}
