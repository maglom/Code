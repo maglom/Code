{
 "cells": [
  {
   "cell_type": "markdown",
   "metadata": {},
   "source": [
    "# CSV Exercises"
   ]
  },
  {
   "cell_type": "markdown",
   "metadata": {},
   "source": [
    "1. Write a function read_csv that accepts filename as a parameter and prints each line\n",
    "in the file given by filename. Try to use both csv.reader() and csv.DictReader\n",
    "Create your own CSV files to test, both with and without a header!\n"
   ]
  },
  {
   "cell_type": "code",
   "execution_count": 1,
   "metadata": {},
   "outputs": [
    {
     "name": "stdout",
     "output_type": "stream",
     "text": [
      "{'navn': 'per', 'alder': '15', 'sted': 'oslo', 'date': '2022-09-01'}\n",
      "{'navn': 'jan', 'alder': '16', 'sted': 'bergen', 'date': '2018-01-16'}\n",
      "{'navn': 'sofie', 'alder': '10', 'sted': 'stavanger', 'date': '2009-05-23'}\n"
     ]
    }
   ],
   "source": [
    "import csv\n",
    "from os.path import exists\n",
    "\n",
    "def read_csv(filename):\n",
    "    with open(filename) as f:\n",
    "        reader = csv.DictReader(f)\n",
    "        for row in reader:\n",
    "            print(row)\n",
    "read_csv('test.csv')"
   ]
  },
  {
   "cell_type": "markdown",
   "metadata": {},
   "source": [
    "2. Add a parameter n_lines to the function that only prints the n_lines first rows of the\n",
    "file. If n_lines is None it should print all lines in the file\n"
   ]
  },
  {
   "cell_type": "code",
   "execution_count": 2,
   "metadata": {},
   "outputs": [
    {
     "name": "stdout",
     "output_type": "stream",
     "text": [
      "{'navn': 'per', 'alder': '15', 'sted': 'oslo', 'date': '2022-09-01'}\n",
      "{'navn': 'jan', 'alder': '16', 'sted': 'bergen', 'date': '2018-01-16'}\n"
     ]
    }
   ],
   "source": [
    "def read_csv(filename, n_lines=None):\n",
    "    with open(filename) as f:\n",
    "        reader = csv.DictReader(f)\n",
    "        if n_lines:\n",
    "            for i,row in enumerate(reader):\n",
    "                if i < n_lines:\n",
    "                    print(row)\n",
    "        else:\n",
    "            for row in reader:\n",
    "                print(row)\n",
    "read_csv('test.csv', 2)"
   ]
  },
  {
   "cell_type": "markdown",
   "metadata": {},
   "source": [
    "3. Add a new parameter to the function read_csv named filename_out. If filename_out\n",
    "is not None, the function should write each line to the file specified by filename_out\n",
    "instead of printing it.\n",
    "Example: read_csv(filename=“test.csv”, n_lines=10, filename_out=“out.csv”) should\n",
    "write the 10 first lines of test.csv to the file out.csv\n",
    "read_csv(filename=“test.csv”, n_lines=10, filename_out=None) should print the first\n",
    "10 lines.\n"
   ]
  },
  {
   "cell_type": "code",
   "execution_count": 3,
   "metadata": {},
   "outputs": [],
   "source": [
    "from csv import reader\n",
    "\n",
    "\n",
    "def read_csv(filename, n_lines=None, filename_out=None):\n",
    "    with open(filename, 'r', newline='') as f:\n",
    "        reader = csv.DictReader(f)\n",
    "        if not filename_out:\n",
    "            if n_lines:\n",
    "                for i,row in enumerate(reader):\n",
    "                    if i < n_lines:\n",
    "                        print(row)\n",
    "            else:\n",
    "                for row in reader:\n",
    "                    print(row)\n",
    "        else:\n",
    "            write_csv(filename_out, reader, n_lines)\n",
    "\n",
    "\n",
    "def write_csv(filename_out, reader, n_lines):\n",
    "    with open(filename_out, 'w', newline='') as f:\n",
    "        writer = csv.DictWriter(f, fieldnames=reader.fieldnames)\n",
    "        writer.writeheader()\n",
    "        for i,row in enumerate(reader):\n",
    "            if i < n_lines:\n",
    "                writer.writerow(row)\n",
    "\n",
    "read_csv(filename='test.csv', n_lines=1, filename_out='jada.csv')"
   ]
  },
  {
   "cell_type": "markdown",
   "metadata": {},
   "source": [
    "4. Expand the function to check if the filename_out already exists. If it does, it should\n",
    "append the rows (without the header) to the file instead of overwriting it.\n"
   ]
  },
  {
   "cell_type": "code",
   "execution_count": 4,
   "metadata": {},
   "outputs": [],
   "source": [
    "def read_csv(filename, n_lines=None, filename_out=None):\n",
    "    with open(filename, 'r', newline='') as f:\n",
    "        reader = csv.DictReader(f)\n",
    "        if not filename_out:\n",
    "            if n_lines:\n",
    "                for i,row in enumerate(reader):\n",
    "                    if i < n_lines:\n",
    "                        print(row)\n",
    "            else:\n",
    "                for row in reader:\n",
    "                    print(row)\n",
    "        else:\n",
    "            write_csv(filename_out, reader, n_lines)\n",
    "            \n",
    "def write_csv(filename_out, reader, n_lines):\n",
    "    if exists(filename_out):\n",
    "        with open(filename_out, 'a', newline='') as f:\n",
    "            writer = csv.DictWriter(f, fieldnames=reader.fieldnames)\n",
    "            writer.writeheader()\n",
    "            for i,row in enumerate(reader):\n",
    "                if i < n_lines:\n",
    "                    writer.writerow(row)\n",
    "    else:\n",
    "        with open(filename_out, 'w', newline='') as f:\n",
    "            writer = csv.DictWriter(f, fieldnames=reader.fieldnames)\n",
    "            writer.writeheader()\n",
    "            for i,row in enumerate(reader):\n",
    "                if i < n_lines:\n",
    "                    writer.writerow(row)\n",
    "\n",
    "read_csv(filename='test.csv', n_lines=2, filename_out='jada.csv')"
   ]
  },
  {
   "cell_type": "markdown",
   "metadata": {},
   "source": [
    "5. Add a parameter cols to the function read_csv. cols should be a list of ints that\n",
    "specify the index of the columns that should be included.\n",
    "For instance, : read_csv(filename=“test.csv”, n_lines=10, filename_out=“out.csv”,\n",
    "cols=[0, 2,3]) should only write the first, third and fourth column (remember that we\n",
    "use zero-index in Python!)\n"
   ]
  },
  {
   "cell_type": "code",
   "execution_count": 5,
   "metadata": {},
   "outputs": [],
   "source": [
    "def read_csv(filename, cols=[], n_lines=None, filename_out=None):\n",
    "    with open(filename, 'r', newline='') as f:\n",
    "        reader = csv.DictReader(f)\n",
    "        if not filename_out:\n",
    "            if n_lines:\n",
    "                for i,row in enumerate(reader):\n",
    "                    if i < n_lines and i in cols:\n",
    "                        print(row)\n",
    "            else:\n",
    "                for i,row in enumerate(reader):\n",
    "                    if i in cols:\n",
    "                        print(row)\n",
    "        else:\n",
    "            write_csv(filename_out, reader, n_lines, cols)\n",
    "            \n",
    "def write_csv(filename_out, reader, n_lines, cols):\n",
    "    if exists(filename_out):\n",
    "        with open(filename_out, 'a', newline='') as f:\n",
    "            writer = csv.DictWriter(f, fieldnames=reader.fieldnames)\n",
    "            writer.writeheader()\n",
    "            for i,row in enumerate(reader):\n",
    "                if i < n_lines and i in cols:\n",
    "                    writer.writerow(row)\n",
    "    else:\n",
    "        with open(filename_out, 'w', newline='') as f:\n",
    "            writer = csv.DictWriter(f, fieldnames=reader.fieldnames)\n",
    "            writer.writeheader()\n",
    "            for i,row in enumerate(reader):\n",
    "                if i < n_lines and i in cols:\n",
    "                    writer.writerow(row)\n",
    "\n",
    "read_csv(filename='test.csv', cols=[0,2], n_lines=3, filename_out='jada.csv')"
   ]
  },
  {
   "cell_type": "markdown",
   "metadata": {},
   "source": [
    "6. Experiment with transforming the values of each row. For instance, try adding a\n",
    "column with integers in your CSV and write each integer squared (i.e i*i) to the out\n",
    "CSV. Also try printing the total sum of that integer row.\n"
   ]
  },
  {
   "cell_type": "code",
   "execution_count": 6,
   "metadata": {},
   "outputs": [
    {
     "name": "stdout",
     "output_type": "stream",
     "text": [
      "581\n"
     ]
    }
   ],
   "source": [
    "def read_csv(filename, cols=[], n_lines=None, filename_out=None):\n",
    "    with open(filename, 'r', newline='') as f:\n",
    "        reader = csv.DictReader(f)\n",
    "        if not filename_out:\n",
    "            if n_lines:\n",
    "                for i,row in enumerate(reader):\n",
    "                    if i < n_lines and i in cols:\n",
    "                        print(row)\n",
    "            else:\n",
    "                for i,row in enumerate(reader):\n",
    "                    if i in cols:\n",
    "                        print(row)\n",
    "        else:\n",
    "            write_csv(filename_out, reader, n_lines, cols)\n",
    "            \n",
    "def write_csv(filename_out, reader, n_lines, cols):\n",
    "    sum = 0\n",
    "    if exists(filename_out):\n",
    "        with open(filename_out, 'a', newline='') as f:\n",
    "            ls = []\n",
    "            writer = csv.DictWriter(f, fieldnames=reader.fieldnames + ['day', 'year', 'month'])\n",
    "            writer.writeheader()\n",
    "            for i,row in enumerate(reader):\n",
    "                if i < n_lines and i in cols:\n",
    "                    row['year'] = row['date'][:4]\n",
    "                    row['month'] = row['date'][5:7]\n",
    "                    row['day'] = row['date'][8:10]\n",
    "                    row['alder'] = int(row['alder']) ** 2\n",
    "                    writer.writerow(row)\n",
    "                    sum += row['alder']\n",
    "    else:\n",
    "        with open(filename_out, 'w', newline='') as f:\n",
    "            writer = csv.DictWriter(f, fieldnames=reader.fieldnames + ['day', 'year', 'month'])\n",
    "            writer.writeheader()\n",
    "            for i,row in enumerate(reader):\n",
    "                if i < n_lines and i in cols:\n",
    "                    row['year'] = row['date'][:4]\n",
    "                    row['month'] = row['date'][5:7]\n",
    "                    row['day'] = row['date'][8:10]\n",
    "                    row['alder'] = int(row['alder']) ** 2\n",
    "                    writer.writerow(row)\n",
    "                    sum += row['alder']\n",
    "    print(sum)\n",
    "read_csv(filename='test.csv', cols=[0,1,2], n_lines=3, filename_out='jada.csv')"
   ]
  },
  {
   "cell_type": "markdown",
   "metadata": {},
   "source": [
    "7. Add a column “Date” to your CSV and fill it with values.\n",
    "Try writing that date as three separate columns “Year”, “Month” and “Day” in the out\n",
    "csv"
   ]
  },
  {
   "cell_type": "code",
   "execution_count": 11,
   "metadata": {},
   "outputs": [
    {
     "name": "stdout",
     "output_type": "stream",
     "text": [
      "581\n"
     ]
    }
   ],
   "source": [
    "def read_csv(filename, cols=[], n_lines=None, filename_out=None):\n",
    "    with open(filename, 'r', newline='') as f:\n",
    "        reader = csv.DictReader(f)\n",
    "        if not filename_out:\n",
    "            if n_lines:\n",
    "                for i,row in enumerate(reader):\n",
    "                    if i < n_lines and i in cols:\n",
    "                        print(row)\n",
    "            else:\n",
    "                for i,row in enumerate(reader):\n",
    "                    if i in cols:\n",
    "                        print(row)\n",
    "        else:\n",
    "            write_csv(filename_out, reader, n_lines, cols)\n",
    "            \n",
    "def write_csv(filename_out, reader, n_lines, cols):\n",
    "    sum = 0\n",
    "    dic = {}\n",
    "    if exists(filename_out):\n",
    "        with open(filename_out, 'a', newline='') as f:\n",
    "            writer = csv.DictWriter(f, fieldnames=reader.fieldnames + ['year', 'month', 'day'])                \n",
    "            for i,row in enumerate(reader):\n",
    "                if i < n_lines and i in cols:\n",
    "                    row['year'] = row['date'][:4]\n",
    "                    row['month'] = row['date'][5:7]\n",
    "                    row['day'] = row['date'][8:10]\n",
    "                    row['alder'] = int(row['alder']) ** 2\n",
    "                    row.pop('date')\n",
    "                    dic[i] = row\n",
    "                    sum += row['alder']\n",
    "            writer.fieldnames.pop(3)\n",
    "            writer.writeheader()\n",
    "            for row in dic:\n",
    "                writer.writerow(dic[row])\n",
    "    \n",
    "    else:\n",
    "        with open(filename_out, 'w', newline='') as f:\n",
    "            writer = csv.DictWriter(f, fieldnames=reader.fieldnames + ['year', 'month', 'day'])\n",
    "            for i,row in enumerate(reader):\n",
    "                if i < n_lines and i in cols:\n",
    "                    row['year'] = row['date'][:4]\n",
    "                    row['month'] = row['date'][5:7]\n",
    "                    row['day'] = row['date'][8:10]\n",
    "                    row['alder'] = int(row['alder']) ** 2\n",
    "                    row.pop('date')\n",
    "                    dic[i] = row\n",
    "                    sum += row['alder']\n",
    "            writer.fieldnames.pop(3)\n",
    "            writer.writeheader()\n",
    "            for row in dic:\n",
    "                writer.writerow(dic[row])\n",
    "\n",
    "    print(sum)\n",
    "\n",
    "\n",
    "read_csv(filename='test.csv', cols=[0,1,2], n_lines=3, filename_out='jada.csv')"
   ]
  },
  {
   "cell_type": "markdown",
   "metadata": {},
   "source": []
  }
 ],
 "metadata": {
  "kernelspec": {
   "display_name": "Python 3.10.2 64-bit",
   "language": "python",
   "name": "python3"
  },
  "language_info": {
   "codemirror_mode": {
    "name": "ipython",
    "version": 3
   },
   "file_extension": ".py",
   "mimetype": "text/x-python",
   "name": "python",
   "nbconvert_exporter": "python",
   "pygments_lexer": "ipython3",
   "version": "3.10.2"
  },
  "orig_nbformat": 4,
  "vscode": {
   "interpreter": {
    "hash": "a74f7ce21f6bee90c696f81c1b05feea5b0771b1a6bf085ce5fd8f9cc559567a"
   }
  }
 },
 "nbformat": 4,
 "nbformat_minor": 2
}
