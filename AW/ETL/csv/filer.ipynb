{
 "cells": [
  {
   "cell_type": "markdown",
   "metadata": {},
   "source": [
    "1. Write a function read_csv that accepts filename as a parameter and prints each line\n",
    "in the file given by filename. Try to use both csv.reader() and csv.DictReader\n",
    "Create your own CSV files to test, both with and without a header!"
   ]
  },
  {
   "cell_type": "code",
   "execution_count": 18,
   "metadata": {},
   "outputs": [
    {
     "name": "stdout",
     "output_type": "stream",
     "text": [
      "['navn', 'sted', 'alder']\n",
      "['per', '1', 'oslo']\n",
      "['jen', '2', 'bergen']\n",
      "['kurt', '3', 'søbek']\n",
      "['nils', '4', 'tromsø']\n",
      "['jensi', '5', 'drøbak']\n",
      "['babekk', '6', 'trondheim']\n"
     ]
    }
   ],
   "source": [
    "import csv\n",
    "def read_csv(filename):\n",
    "    with open(filename, 'r') as file:\n",
    "        reader = csv.reader(file)\n",
    "        for row in reader:\n",
    "            print(row)\n",
    "read_csv('file.csv')"
   ]
  },
  {
   "cell_type": "code",
   "execution_count": null,
   "metadata": {},
   "outputs": [],
   "source": []
  },
  {
   "cell_type": "markdown",
   "metadata": {},
   "source": [
    "2. Add a parameter n_lines to the function that only prints the n_lines first rows of the\n",
    "file. If n_lines is None it should print all lines in the file"
   ]
  },
  {
   "cell_type": "code",
   "execution_count": 19,
   "metadata": {},
   "outputs": [
    {
     "name": "stdout",
     "output_type": "stream",
     "text": [
      "['navn', 'sted', 'alder']\n",
      "['per', '1', 'oslo']\n",
      "['jen', '2', 'bergen']\n"
     ]
    }
   ],
   "source": [
    "def read_csv(filename, n_lines=None):\n",
    "    with open(filename, 'r') as file:\n",
    "        reader = csv.reader(file)\n",
    "        nrows = 0\n",
    "        for row in reader:\n",
    "            if n_lines == None:\n",
    "                print(row)\n",
    "            else:\n",
    "                if nrows<=n_lines:\n",
    "                    print(row)\n",
    "                nrows += 1\n",
    "read_csv('file.csv',2)"
   ]
  },
  {
   "cell_type": "markdown",
   "metadata": {},
   "source": [
    "3. Add a new parameter to the function read_csv named filename_out. If filename_out\n",
    "is not None, the function should write each line to the file specified by filename_out\n",
    "instead of printing it.\n",
    "Example: read_csv(filename=“test.csv”, n_lines=10, filename_out=“out.csv”) should\n",
    "write the 10 first lines of test.csv to the file out.csv\n",
    "read_csv(filename=“test.csv”, n_lines=10, filename_out=None) should print the first\n",
    "10 lines."
   ]
  },
  {
   "cell_type": "code",
   "execution_count": 20,
   "metadata": {},
   "outputs": [],
   "source": [
    "def read_csv(filename, filename_out, n_lines):\n",
    "    with open(filename, 'r') as file:\n",
    "        reader = csv.reader(file)\n",
    "        if filename_out == None:\n",
    "            nrows = 0\n",
    "            for row in reader:\n",
    "                if n_lines == None:\n",
    "                    print(row)\n",
    "                else:\n",
    "                    if nrows<=n_lines:\n",
    "                        print(row)\n",
    "                    nrows += 1\n",
    "        else:\n",
    "            with open(filename_out, 'w') as file:\n",
    "                writer = csv.writer(file)\n",
    "                nrows = 0\n",
    "                for row in reader:\n",
    "                    if n_lines == None:\n",
    "                        writer.writerow()(row)\n",
    "                    else:\n",
    "                        if nrows<=n_lines:\n",
    "                            writer.writerow(row)\n",
    "                        nrows += 1\n",
    "read_csv('file.csv', 'test.csv', 1)"
   ]
  },
  {
   "cell_type": "markdown",
   "metadata": {},
   "source": [
    "4. Expand the function to check if the filename_out already exists. If it does, it should\n",
    "append the rows (without the header) to the file instead of overwriting it."
   ]
  },
  {
   "cell_type": "code",
   "execution_count": 21,
   "metadata": {},
   "outputs": [],
   "source": [
    "from os.path import exists\n",
    "\n",
    "def read_csv(filename, filename_out, n_lines):\n",
    "    with open(filename, 'r') as file:\n",
    "        reader = csv.reader(file)\n",
    "        if filename_out == None:\n",
    "            nrows = 0\n",
    "            for row in reader:\n",
    "                if n_lines == None:\n",
    "                    print(row)\n",
    "                else:\n",
    "                    if nrows<=n_lines:\n",
    "                        print(row)\n",
    "                    nrows += 1\n",
    "        else:\n",
    "            if exists(filename_out):\n",
    "                with open(filename_out, 'a') as file:\n",
    "                    writer = csv.writer(file)\n",
    "                    nrows = 0\n",
    "                    for row in reader:\n",
    "                        if n_lines == None:\n",
    "                            writer.writerow(row)\n",
    "                        else:\n",
    "                            if nrows<=n_lines:\n",
    "                                writer.writerow(row)\n",
    "                            nrows += 1\n",
    "            else:\n",
    "                with open(filename_out, 'w') as file:\n",
    "                    writer = csv.writer(file)\n",
    "                    nrows = 0\n",
    "                    for row in reader:\n",
    "                        if n_lines == None:\n",
    "                            writer.writerow(row)\n",
    "                        else:\n",
    "                            if nrows<=n_lines:\n",
    "                                writer.writerow(row)\n",
    "                            nrows += 1\n",
    "read_csv('file.csv', 'test.csv', None)"
   ]
  },
  {
   "cell_type": "markdown",
   "metadata": {},
   "source": [
    "5. Add a parameter cols to the function read_csv. cols should be a list of ints that\n",
    "specify the index of the columns that should be included.\n",
    "For instance, : read_csv(filename=“test.csv”, n_lines=10, filename_out=“out.csv”,\n",
    "cols=[0, 2,3]) should only write the first, third and fourth column (remember that we\n",
    "use zero-index in Python!)"
   ]
  },
  {
   "cell_type": "code",
   "execution_count": 22,
   "metadata": {},
   "outputs": [],
   "source": [
    "def write_for_read(n_lines, nrows, cols, reader, writer):\n",
    "    for row in reader:\n",
    "        if n_lines == None:\n",
    "            if nrows in cols:\n",
    "                writer.writerow(row)\n",
    "        else:\n",
    "            if nrows<=n_lines:\n",
    "                if nrows in cols:\n",
    "                    writer.writerow(row)\n",
    "            nrows += 1\n",
    "            \n",
    "def read_csv(filename, filename_out, n_lines, cols):\n",
    "    with open(filename, 'r') as file:\n",
    "        nrows = 0\n",
    "        reader = csv.reader(file)\n",
    "        if filename_out == None:\n",
    "            for row in reader:\n",
    "                if n_lines == None:\n",
    "                    if nrows in cols:\n",
    "                        print(row)\n",
    "                else:\n",
    "                    if nrows<=n_lines:\n",
    "                        if nrows in cols:\n",
    "                            print(row)\n",
    "                    nrows += 1\n",
    "        else:\n",
    "            if exists(filename_out):\n",
    "                with open(filename_out, 'a') as file:\n",
    "                    writer = csv.writer(file)\n",
    "                    write_for_read(n_lines,nrows,cols,reader,writer)\n",
    "            else:\n",
    "                with open(filename_out, 'w') as file:\n",
    "                    writer = csv.writer(file)\n",
    "                    write_for_read(n_lines,nrows,cols,reader,writer)\n",
    "read_csv('file.csv', 'test.csv', 5, [1,3,5])\n"
   ]
  },
  {
   "cell_type": "markdown",
   "metadata": {},
   "source": [
    "6. Experiment with transforming the values of each row. For instance, try adding a\n",
    "column with integers in your CSV and write each integer squared (i.e i*i) to the out\n",
    "CSV. Also try printing the total sum of that integer row."
   ]
  },
  {
   "cell_type": "code",
   "execution_count": 29,
   "metadata": {},
   "outputs": [
    {
     "name": "stdout",
     "output_type": "stream",
     "text": [
      "35\n"
     ]
    }
   ],
   "source": [
    "def read_csv(filename, n_lines, cols, filename_out=None):\n",
    "    with open(filename, 'r') as file:\n",
    "        nrows = 0\n",
    "        reader = csv.reader(file)\n",
    "        if filename_out == None:\n",
    "            for row in reader:\n",
    "                if n_lines == None:\n",
    "                    if nrows in cols:\n",
    "                        print(row)\n",
    "                else:\n",
    "                    if nrows<=n_lines:\n",
    "                        if nrows in cols:\n",
    "                            print(row)\n",
    "                    nrows += 1\n",
    "        else:\n",
    "            if exists(filename_out):\n",
    "                with open(filename_out, 'a') as file:\n",
    "                    writer = csv.writer(file)\n",
    "                    write_for_read(n_lines,nrows,cols,reader,writer)\n",
    "            else:\n",
    "                with open(filename_out, 'w') as file:\n",
    "                    writer = csv.writer(file)\n",
    "                    write_for_read(n_lines,nrows,cols,reader,writer)\n",
    "read_csv('file.csv', n_lines=5, cols=[1,3,5], filename_out='test.csv')\n",
    "\n",
    "def write_for_read(n_lines, nrows, cols, reader, writer):\n",
    "    sum = 0\n",
    "    for row in reader:\n",
    "        if n_lines == None:\n",
    "            if nrows in cols:\n",
    "                row[1] = int(row[1]) * int(row[1])\n",
    "                sum += row[1]\n",
    "                writer.writerow(row)\n",
    "        else:\n",
    "            if nrows<=n_lines:\n",
    "                if nrows in cols:\n",
    "                    row[1] = int(row[1]) * int(row[1])\n",
    "                    sum += row[1]\n",
    "                    writer.writerow(row)\n",
    "            nrows += 1\n",
    "    print(sum)"
   ]
  },
  {
   "cell_type": "markdown",
   "metadata": {},
   "source": [
    "7. Add a column “Date” to your CSV and fill it with values.\n",
    "Try writing that date as three separate columns “Year”, “Month” and “Day” in the out\n",
    "csv"
   ]
  },
  {
   "cell_type": "code",
   "execution_count": 76,
   "metadata": {},
   "outputs": [
    {
     "data": {
      "text/plain": [
       "['navn', 'alder', 'sted', 'day', 'month', 'year']"
      ]
     },
     "execution_count": 76,
     "metadata": {},
     "output_type": "execute_result"
    }
   ],
   "source": [
    "ls = []\n",
    "with open('file.csv', 'r') as r_file:\n",
    "        reader = csv.reader(r_file)\n",
    "        header = next(reader,None)\n",
    "        header.pop(3)\n",
    "        for row in reader:\n",
    "                day = row[3][:2]\n",
    "                month = row[3][3:5]\n",
    "                year = row[3][6:10]\n",
    "                row.append(day)\n",
    "                row.append(month)\n",
    "                row.append(year)\n",
    "                row.pop(3)\n",
    "                ls.append(row)\n",
    "\n",
    "header.append('day')\n",
    "header.append('month')\n",
    "header.append('year')\n",
    "\n",
    "with open('test.csv', 'w') as file:\n",
    "        writer = csv.writer(file)\n",
    "        writer.writerow(header)\n",
    "        for row in ls:\n",
    "                writer.writerow(row)\n",
    "\n",
    "header\n",
    "#with open('test.csv', 'w') as file:\n",
    " #       writer = csv.writer(file)     \n",
    "                        "
   ]
  }
 ],
 "metadata": {
  "kernelspec": {
   "display_name": "Python 3.9.1 64-bit",
   "language": "python",
   "name": "python3"
  },
  "language_info": {
   "codemirror_mode": {
    "name": "ipython",
    "version": 3
   },
   "file_extension": ".py",
   "mimetype": "text/x-python",
   "name": "python",
   "nbconvert_exporter": "python",
   "pygments_lexer": "ipython3",
   "version": "3.9.1"
  },
  "orig_nbformat": 4,
  "vscode": {
   "interpreter": {
    "hash": "397704579725e15f5c7cb49fe5f0341eb7531c82d19f2c29d197e8b64ab5776b"
   }
  }
 },
 "nbformat": 4,
 "nbformat_minor": 2
}
