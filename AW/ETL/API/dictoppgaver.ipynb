{
 "cells": [
  {
   "cell_type": "markdown",
   "metadata": {},
   "source": [
    "# Daily challenges\n",
    "\n",
    "The exercises in this document drill your understanding of the fundamental data structures in Python: lists and dictionaries. A solid understanding of lists and dictionaries makes working with Python much easier, as many modules deal with list- or dictionary-like objects (meaning they have similar methods and attributes; this is called [duck typing](https://en.wikipedia.org/wiki/Duck_typing)). Furthermore, you will become comfortable with iterations over lists and dictionaries. Understanding and applying iterations are a fundamental skill for any programmer.\n",
    "\n",
    "None of these problems are trivial. If you master these, you are well on your way to master Python. Once you solve a problem, see if you can simplify your code to make it cleaner and more beautiful. Clean and beautiful code is readable and understandable to many, and you will find joy and learning in the journey of making your code more elegant.\n",
    "\n",
    "## Day 1\n",
    "\n",
    "### 1\n",
    "\n",
    "```Python\n",
    "list1 = [1, 2, 2, 300, 4, 5, 'foo', 6, 7, 'bar', 'foo']\n",
    "```\n",
    "\n",
    "Write a function that returns a list of all items in the input list above that are numbers.\n"
   ]
  },
  {
   "cell_type": "code",
   "execution_count": 1,
   "metadata": {},
   "outputs": [
    {
     "name": "stdout",
     "output_type": "stream",
     "text": [
      "[1, 2, 2, 300, 4, 5, 6, 7]\n"
     ]
    }
   ],
   "source": [
    "nums = []\n",
    "list1 = [1, 2, 2, 300, 4, 5, 'foo', 6, 7, 'bar', 'foo']\n",
    "for i in list1:\n",
    "    if isinstance(i, int):\n",
    "        nums.append(i)\n",
    "print(nums)\n"
   ]
  },
  {
   "cell_type": "markdown",
   "metadata": {},
   "source": [
    "\n",
    "### 2\n",
    "\n",
    "```Python\n",
    "lol = [[1,2,'foo'],[6,3,{'a':1}],[],['bar']]\n",
    "```\n",
    "\n",
    "Write a function that returns a list like the one below for the input list above.\n",
    "\n",
    "```Python\n",
    "[[1,2],[6,3],[],[]]\n",
    "```\n"
   ]
  },
  {
   "cell_type": "code",
   "execution_count": 2,
   "metadata": {},
   "outputs": [
    {
     "name": "stdout",
     "output_type": "stream",
     "text": [
      "[[1, 2], [6, 3], [], []]\n"
     ]
    }
   ],
   "source": [
    "lol = [\n",
    "    [1,2,'foo'],[6,3,{'a':1}],[],['bar']\n",
    "    ]\n",
    "ls = []\n",
    "bs = []\n",
    "for iterable in lol:\n",
    "    if isinstance(iterable, list):\n",
    "        if iterable:\n",
    "            for i in iterable:\n",
    "                if isinstance(i,int):\n",
    "                    bs.append(i)\n",
    "            ls.append(bs)\n",
    "            bs = []\n",
    "        else:\n",
    "            ls.append(iterable)\n",
    "print(ls)"
   ]
  },
  {
   "cell_type": "markdown",
   "metadata": {},
   "source": [
    "\n",
    "### 3\n",
    "\n",
    "Create a new version of the function from exercise 2 to instead produce the below input (that is, it should squash the list-of-lists into a single list).\n",
    "\n",
    "```Python\n",
    "[1,2,6,3]\n",
    "```\n"
   ]
  },
  {
   "cell_type": "code",
   "execution_count": 3,
   "metadata": {},
   "outputs": [
    {
     "name": "stdout",
     "output_type": "stream",
     "text": [
      "[1, 2, 6, 3]\n"
     ]
    }
   ],
   "source": [
    "lol = [\n",
    "    [1,2,'foo'],[6,3,{'a':1}],[],['bar']\n",
    "    ]\n",
    "ls = []\n",
    "bs = []\n",
    "for iterable in lol:\n",
    "    if isinstance(iterable, list):\n",
    "        if iterable:\n",
    "            for i in iterable:\n",
    "                if isinstance(i,int):\n",
    "                    bs.append(i)\n",
    "            ls.append(bs)\n",
    "            bs = []\n",
    "        else:\n",
    "            ls.append(iterable)\n",
    "for iterable in ls:\n",
    "    if iterable:\n",
    "        for i in iterable:\n",
    "            bs.append(i)\n",
    "print(bs)"
   ]
  },
  {
   "cell_type": "markdown",
   "metadata": {},
   "source": [
    "\n",
    "### 4\n",
    "\n",
    "Write a function that returns a list of all items in the list below that are numbers.\n",
    "\n",
    "```Python\n",
    "l2 = [1, 3.14, 'foo', {'bar': '5'}, 1337.42]\n",
    "```\n"
   ]
  },
  {
   "cell_type": "code",
   "execution_count": 4,
   "metadata": {},
   "outputs": [
    {
     "name": "stdout",
     "output_type": "stream",
     "text": [
      "[1, 3.14, 1337.42]\n"
     ]
    }
   ],
   "source": [
    "l2 = [1, 3.14, 'foo', {'bar': '5'}, 1337.42]\n",
    "\n",
    "def is_number(list):\n",
    "    ls = []\n",
    "    for i in list:\n",
    "        if isinstance(i,(int,float)):\n",
    "            ls.append(i)\n",
    "    return ls\n",
    "print(is_number(l2))"
   ]
  },
  {
   "cell_type": "markdown",
   "metadata": {},
   "source": [
    "\n",
    "### 5\n",
    "\n",
    "Write a function that returns the **index** of all items in list below that are not numbers.\n",
    "\n",
    "```Python\n",
    "l2 = [1, 3.14, 'foo', {'bar': '5'}, 1337.42]\n",
    "```\n"
   ]
  },
  {
   "cell_type": "code",
   "execution_count": 5,
   "metadata": {},
   "outputs": [
    {
     "name": "stdout",
     "output_type": "stream",
     "text": [
      "[2, 3]\n"
     ]
    }
   ],
   "source": [
    "l2 = [1, 3.14, 'foo', {'bar': '5'}, 1337.42]\n",
    "\n",
    "def index(list):\n",
    "    ls = []\n",
    "    for c,i in enumerate(list):\n",
    "        if not isinstance(i,(int,float)):\n",
    "            ls.append(c)\n",
    "    return ls\n",
    "\n",
    "print(index(l2))"
   ]
  },
  {
   "cell_type": "markdown",
   "metadata": {},
   "source": [
    "\n",
    "## Day 2\n",
    "\n",
    "### 1\n",
    "\n",
    "Write a function that returns a dictionary, where the key is the list index and the value is the list value at that index\n",
    "\n",
    "The input:\n",
    "\n",
    "```Python\n",
    "dict_list = [1,2,3,4,'banana']\n",
    "```\n",
    "\n",
    "Should produce this output:\n",
    "\n",
    "```Python\n",
    "{ '0': 1,\n",
    "'1': 2,\n",
    "'2': 3,\n",
    "'3': 4,\n",
    "'4': 'banana'}\n",
    "```\n"
   ]
  },
  {
   "cell_type": "code",
   "execution_count": 6,
   "metadata": {},
   "outputs": [
    {
     "name": "stdout",
     "output_type": "stream",
     "text": [
      "{0: 1, 1: 2, 2: 3, 3: 4, 4: 'banana'}\n"
     ]
    }
   ],
   "source": [
    "dict_list = [1,2,3,4,'banana']\n",
    "\n",
    "def dic_index(dic):\n",
    "    ind = {}\n",
    "    for c,i in enumerate(dic):\n",
    "        ind[c] = i\n",
    "    return ind\n",
    "\n",
    "print(dic_index(dict_list))"
   ]
  },
  {
   "cell_type": "markdown",
   "metadata": {},
   "source": [
    "\n",
    "### 2\n",
    "\n",
    "Opposite; but the keys are the values and the values are the indexes!\n",
    "\n",
    "We have:\n",
    "\n",
    "```Python\n",
    "dict_list = [1,2,3,4,'banana']\n",
    "```\n",
    "\n",
    "We want:\n",
    "\n",
    "```Python\n",
    "{ 1: 0,\n",
    "2: 1,\n",
    "3: 2,\n",
    "4: 3,\n",
    "'banana': 4}\n",
    "```\n"
   ]
  },
  {
   "cell_type": "code",
   "execution_count": 7,
   "metadata": {},
   "outputs": [
    {
     "name": "stdout",
     "output_type": "stream",
     "text": [
      "{1: 0, 2: 1, 3: 2, 4: 3, 'banana': 4}\n"
     ]
    }
   ],
   "source": [
    "dict_list = [1,2,3,4,'banana']\n",
    "\n",
    "def dic_index(dic):\n",
    "    ind = {}\n",
    "    for c,i in enumerate(dic):\n",
    "        ind[i] = c\n",
    "    return ind\n",
    "\n",
    "print(dic_index(dict_list))"
   ]
  },
  {
   "cell_type": "markdown",
   "metadata": {},
   "source": [
    "\n",
    "### 3\n",
    "\n",
    "We have:\n",
    "\n",
    "```Python\n",
    "dict_list = [1,1,2, 'foo', 3, 'foo']\n",
    "```\n",
    "\n",
    "We want:\n",
    "\n",
    "```Python\n",
    "{\n",
    "1: [0,1],\n",
    "2: [2],\n",
    "'foo': [3,5],\n",
    "3: [4]\n",
    "}\n",
    "```\n"
   ]
  },
  {
   "cell_type": "code",
   "execution_count": 8,
   "metadata": {},
   "outputs": [
    {
     "name": "stdout",
     "output_type": "stream",
     "text": [
      "{1: [0, 1], 2: [2], 'foo': [3, 5], 3: [4]}\n"
     ]
    }
   ],
   "source": [
    "dict_list = [1,1,2, 'foo', 3, 'foo']\n",
    "ls = []\n",
    "\n",
    "for i in dict_list:\n",
    "    if i in ls:\n",
    "        continue\n",
    "    else:\n",
    "        ls.append(i)\n",
    "\n",
    "dic = {}\n",
    "\n",
    "for c,i in enumerate(ls):\n",
    "    dic[i] = []\n",
    "    for x,values in enumerate(dict_list):\n",
    "        if values == i:\n",
    "            dic[i].append(x)\n",
    "\n",
    "print(dic)\n",
    "\n",
    "\n"
   ]
  },
  {
   "cell_type": "markdown",
   "metadata": {},
   "source": [
    "\n",
    "## Day 3\n",
    "\n",
    "### 1\n",
    "\n",
    "We have:\n",
    "\n",
    "```Python\n",
    "lol = [[1,2], [], [5,1,2,6]]\n",
    "```\n",
    "\n",
    "We want:\n",
    "\n",
    "```Python\n",
    "[1,2,5,1,2,6]\n",
    "```\n"
   ]
  },
  {
   "cell_type": "code",
   "execution_count": 9,
   "metadata": {},
   "outputs": [
    {
     "name": "stdout",
     "output_type": "stream",
     "text": [
      "[1, 2, 5, 1, 2, 6]\n"
     ]
    }
   ],
   "source": [
    "lol = [[1,2], [], [5,1,2,6]]\n",
    "\n",
    "ls = []\n",
    "for i in lol:\n",
    "    ls += i\n",
    "\n",
    "print(ls)\n"
   ]
  },
  {
   "cell_type": "markdown",
   "metadata": {},
   "source": [
    "\n",
    "### 2\n",
    "\n",
    "We have:\n",
    "\n",
    "```Python\n",
    "lod = [{'id': '2', 'name': 'Anton'}, {'id': 3}, {'id': 4, 'name': 'Balloo'}]\n",
    "```\n",
    "\n",
    "We want:\n",
    "\n",
    "```Python\n",
    "{\n",
    "'id': ['2', 3, 4],\n",
    "'name': ['Anton', 'Balloo']\n",
    "}\n",
    "```\n"
   ]
  },
  {
   "cell_type": "code",
   "execution_count": 13,
   "metadata": {},
   "outputs": [
    {
     "name": "stdout",
     "output_type": "stream",
     "text": [
      "{'id': ['2', 3, 4], 'name': ['Anton', 'Balloo']}\n"
     ]
    }
   ],
   "source": [
    "lod = [{'id': '2', 'name': 'Anton'}, {'id': 3}, {'id': 4, 'name': 'Balloo'}]\n",
    "dic = {}\n",
    "\n",
    "for i in lod:\n",
    "    for y,x in i.items():\n",
    "        if y in dic:\n",
    "            dic[y].append(x)\n",
    "        else: dic[y] = [x]\n",
    "print(dic)"
   ]
  },
  {
   "cell_type": "markdown",
   "metadata": {},
   "source": [
    "\n",
    "### 3\n",
    "\n",
    "We have:\n",
    "\n",
    "```Python\n",
    "lod = [{'id': '2', 'name': 'Anton'}, {'id': 3}, {'id': 4, 'name': 'Balloo'}]\n",
    "```\n",
    "\n",
    "We want:\n",
    "\n",
    "```Python\n",
    "{\n",
    "'id': ['2', 3, 4],\n",
    "'name': ['Anton', None, 'Balloo']\n",
    "}\n",
    "```\n"
   ]
  },
  {
   "cell_type": "code",
   "execution_count": null,
   "metadata": {},
   "outputs": [],
   "source": [
    "lod = [{'id': '2', 'name': 'Anton'}, {'id': 3}, {'id': 4, 'name': 'Balloo'}]\n",
    "dic = {}\n",
    "\n",
    "for i in lod:\n",
    "    for y,x in i.items():\n",
    "        if y in dic:\n",
    "            dic[y].append(x)\n",
    "        else: dic[y] = [x]\n",
    "print(dic)"
   ]
  },
  {
   "cell_type": "markdown",
   "metadata": {},
   "source": [
    "\n",
    "## Day 4\n",
    "\n",
    "### 1\n",
    "\n",
    "We have:\n",
    "\n",
    "```Python\n",
    "l = [{'a': 1}, {'b':2}, {'a': 2, 'c': 5}]\n",
    "```\n",
    "\n",
    "We want:\n",
    "\n",
    "```Python\n",
    "{'a': [1, None, 2], 'b': [None, 2, None], 'c': [None, None, 5]}\n",
    "```\n"
   ]
  },
  {
   "cell_type": "markdown",
   "metadata": {},
   "source": [
    "\n",
    "### 2\n",
    "\n",
    "```Python\n",
    "l = [{'a': 1}, {'b':2}, {'a': 2, 'c': 5}]\n",
    "```\n",
    "\n",
    "Write a function that creates a CSV like the one below for the input above.\n",
    "\n",
    "```Python\n",
    "\"\"\"a, b, c\n",
    "1, None, None\n",
    "None, 2, None\n",
    "2, None, 5\n",
    "\"\"\"\n",
    "```\n"
   ]
  },
  {
   "cell_type": "markdown",
   "metadata": {},
   "source": [
    "\n",
    "### 2\n",
    "\n",
    "We have:\n",
    "\n",
    "```Python\n",
    "l = [{'a': 1}, {'b':2}, {'a': 2, 'c': 5}]\n",
    "```\n",
    "\n",
    "We want:\n",
    "\n",
    "```Python\n",
    "{'a': [1, None, 2], 'b': [None, 2, None], 'c': [None, None, 5]}\n",
    "```\n"
   ]
  }
 ],
 "metadata": {
  "kernelspec": {
   "display_name": "Python 3.9.1 64-bit",
   "language": "python",
   "name": "python3"
  },
  "language_info": {
   "codemirror_mode": {
    "name": "ipython",
    "version": 3
   },
   "file_extension": ".py",
   "mimetype": "text/x-python",
   "name": "python",
   "nbconvert_exporter": "python",
   "pygments_lexer": "ipython3",
   "version": "3.9.1"
  },
  "orig_nbformat": 4,
  "vscode": {
   "interpreter": {
    "hash": "397704579725e15f5c7cb49fe5f0341eb7531c82d19f2c29d197e8b64ab5776b"
   }
  }
 },
 "nbformat": 4,
 "nbformat_minor": 2
}
