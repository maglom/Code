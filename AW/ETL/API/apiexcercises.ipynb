{
 "cells": [
  {
   "cell_type": "markdown",
   "metadata": {},
   "source": [
    "# Exercises\n",
    "\n",
    "## Public holidays\n",
    "For these exercises, we will use the API at `https://date.nager.at/Api`. The API can be used like this: `https://date.nager.at/api/v3/PublicHolidays/2022/NO`, which returns all holidays for 2022 for Norway. The API does not require authentication.\n",
    "\n",
    "1. Send a request to the API to get all public holidays for Norway in 2022. If the request is OK (status code 2xx) , print the response json.\n"
   ]
  },
  {
   "cell_type": "code",
   "execution_count": 5,
   "metadata": {},
   "outputs": [
    {
     "name": "stdout",
     "output_type": "stream",
     "text": [
      "[{'date': '2022-01-01', 'localName': 'Første nyttårsdag', 'name': \"New Year's Day\", 'countryCode': 'NO', 'fixed': True, 'global': True, 'counties': None, 'launchYear': None, 'types': ['Public']}, {'date': '2022-04-14', 'localName': 'Skjærtorsdag', 'name': 'Maundy Thursday', 'countryCode': 'NO', 'fixed': False, 'global': True, 'counties': None, 'launchYear': None, 'types': ['Public']}, {'date': '2022-04-15', 'localName': 'Langfredag', 'name': 'Good Friday', 'countryCode': 'NO', 'fixed': False, 'global': True, 'counties': None, 'launchYear': None, 'types': ['Public']}, {'date': '2022-04-17', 'localName': 'Første påskedag', 'name': 'Easter Sunday', 'countryCode': 'NO', 'fixed': False, 'global': True, 'counties': None, 'launchYear': None, 'types': ['Public']}, {'date': '2022-04-18', 'localName': 'Andre påskedag', 'name': 'Easter Monday', 'countryCode': 'NO', 'fixed': False, 'global': True, 'counties': None, 'launchYear': None, 'types': ['Public']}, {'date': '2022-05-01', 'localName': 'Første mai', 'name': 'Labour Day', 'countryCode': 'NO', 'fixed': True, 'global': True, 'counties': None, 'launchYear': None, 'types': ['Public']}, {'date': '2022-05-17', 'localName': 'Syttende mai', 'name': 'Constitution Day', 'countryCode': 'NO', 'fixed': True, 'global': True, 'counties': None, 'launchYear': None, 'types': ['Public']}, {'date': '2022-05-26', 'localName': 'Kristi himmelfartsdag', 'name': 'Ascension Day', 'countryCode': 'NO', 'fixed': False, 'global': True, 'counties': None, 'launchYear': None, 'types': ['Public']}, {'date': '2022-06-05', 'localName': 'Første pinsedag', 'name': 'Pentecost', 'countryCode': 'NO', 'fixed': False, 'global': True, 'counties': None, 'launchYear': None, 'types': ['Public']}, {'date': '2022-06-06', 'localName': 'Andre pinsedag', 'name': 'Whit Monday', 'countryCode': 'NO', 'fixed': False, 'global': True, 'counties': None, 'launchYear': None, 'types': ['Public']}, {'date': '2022-12-25', 'localName': 'Første juledag', 'name': 'Christmas Day', 'countryCode': 'NO', 'fixed': True, 'global': True, 'counties': None, 'launchYear': None, 'types': ['Public']}, {'date': '2022-12-26', 'localName': 'Andre juledag', 'name': \"St. Stephen's Day\", 'countryCode': 'NO', 'fixed': True, 'global': True, 'counties': None, 'launchYear': None, 'types': ['Public']}]\n"
     ]
    }
   ],
   "source": [
    "import requests\n",
    "URL = 'https://date.nager.at/api/v3/PublicHolidays/'\n",
    "response = requests.get(URL+'2022/NO')\n",
    "if response.ok:\n",
    "    print(response.json())"
   ]
  },
  {
   "cell_type": "markdown",
   "metadata": {},
   "source": [
    "2. Create a function `get_public_holidays(year, country_code)` that returns all the public holidays for the given `year` and `country_code` by requesting the API. If the request towards the API fails, you should return \"Could not fetch holidays for {country} in {year}\"\n",
    "```\n",
    "get_public_holidays(2022, \"NO\")\n",
    "``` \n",
    "should return the json you get when you visit https://date.nager.at/api/v3/PublicHolidays/2022/NO\n",
    "```\n",
    "get_public_holidays(2005, \"NASFASD\") \n",
    "```\n",
    "should return \"Could not fetch holidays for NASDFASD in 2005.\n",
    "\n",
    "\n",
    "(Hint: Re-use some of the code you used in task 1, and base the error message on whether the response is OK or not)\n"
   ]
  },
  {
   "cell_type": "code",
   "execution_count": 10,
   "metadata": {},
   "outputs": [
    {
     "name": "stdout",
     "output_type": "stream",
     "text": [
      "[{'date': '2022-01-01', 'localName': 'Første nyttårsdag', 'name': \"New Year's Day\", 'countryCode': 'NO', 'fixed': True, 'global': True, 'counties': None, 'launchYear': None, 'types': ['Public']}, {'date': '2022-04-14', 'localName': 'Skjærtorsdag', 'name': 'Maundy Thursday', 'countryCode': 'NO', 'fixed': False, 'global': True, 'counties': None, 'launchYear': None, 'types': ['Public']}, {'date': '2022-04-15', 'localName': 'Langfredag', 'name': 'Good Friday', 'countryCode': 'NO', 'fixed': False, 'global': True, 'counties': None, 'launchYear': None, 'types': ['Public']}, {'date': '2022-04-17', 'localName': 'Første påskedag', 'name': 'Easter Sunday', 'countryCode': 'NO', 'fixed': False, 'global': True, 'counties': None, 'launchYear': None, 'types': ['Public']}, {'date': '2022-04-18', 'localName': 'Andre påskedag', 'name': 'Easter Monday', 'countryCode': 'NO', 'fixed': False, 'global': True, 'counties': None, 'launchYear': None, 'types': ['Public']}, {'date': '2022-05-01', 'localName': 'Første mai', 'name': 'Labour Day', 'countryCode': 'NO', 'fixed': True, 'global': True, 'counties': None, 'launchYear': None, 'types': ['Public']}, {'date': '2022-05-17', 'localName': 'Syttende mai', 'name': 'Constitution Day', 'countryCode': 'NO', 'fixed': True, 'global': True, 'counties': None, 'launchYear': None, 'types': ['Public']}, {'date': '2022-05-26', 'localName': 'Kristi himmelfartsdag', 'name': 'Ascension Day', 'countryCode': 'NO', 'fixed': False, 'global': True, 'counties': None, 'launchYear': None, 'types': ['Public']}, {'date': '2022-06-05', 'localName': 'Første pinsedag', 'name': 'Pentecost', 'countryCode': 'NO', 'fixed': False, 'global': True, 'counties': None, 'launchYear': None, 'types': ['Public']}, {'date': '2022-06-06', 'localName': 'Andre pinsedag', 'name': 'Whit Monday', 'countryCode': 'NO', 'fixed': False, 'global': True, 'counties': None, 'launchYear': None, 'types': ['Public']}, {'date': '2022-12-25', 'localName': 'Første juledag', 'name': 'Christmas Day', 'countryCode': 'NO', 'fixed': True, 'global': True, 'counties': None, 'launchYear': None, 'types': ['Public']}, {'date': '2022-12-26', 'localName': 'Andre juledag', 'name': \"St. Stephen's Day\", 'countryCode': 'NO', 'fixed': True, 'global': True, 'counties': None, 'launchYear': None, 'types': ['Public']}]\n"
     ]
    }
   ],
   "source": [
    "def get_public_holidays(year, country_code):\n",
    "    response = requests.get(f'{URL}{year}/{country_code}')\n",
    "    if not response.ok:\n",
    "        return(f'Could not fetch holidays for {country_code} in {year}')\n",
    "    else:\n",
    "        return response.json()\n",
    "\n",
    "print(get_public_holidays('2022', 'NO'))"
   ]
  },
  {
   "cell_type": "markdown",
   "metadata": {},
   "source": [
    "3. Write a function `get_norwegian_holiday_dates(holiday_name, years_back)` that returns all the dates of the given holiday for a number of years back.\n",
    "For instance\n",
    "```\n",
    "get_norwegian_holiday_dates(\"Langfredag\", 3) should return \n",
    "[\"2022-04-15\", \"2021-04-02\", \"2020-04-10\"] since these are the three last years dates of when \"Langfredag\" was. (2022, 2021, 2020) \n",
    "```\n",
    "Hint: Re-use the `get_public_holidays` function you created in task 2.\n",
    "Also, \n",
    "```\n",
    "for i in range(5,1,-1)\n",
    "```\n",
    " counts backwards from 5 to 1. \n",
    "\n"
   ]
  },
  {
   "cell_type": "code",
   "execution_count": 43,
   "metadata": {},
   "outputs": [
    {
     "name": "stdout",
     "output_type": "stream",
     "text": [
      "['2020-04-10', '2021-04-02', '2022-04-15']\n"
     ]
    }
   ],
   "source": [
    "def get_norwegian_holiday_dates(holiday_name, years_back):\n",
    "    ls = [str(2023 - x) for x in range(years_back, 0, -1)]\n",
    "    dict_years = []\n",
    "    list_of_dates = []\n",
    "    for year in ls:\n",
    "        dict_years.append(get_public_holidays(year, 'NO'))\n",
    "    for dic in dict_years:\n",
    "        for holidays in dic:\n",
    "            if holidays['localName'] == holiday_name:\n",
    "                list_of_dates.append(holidays['date'])\n",
    "    return list_of_dates\n",
    "\n",
    "print(get_norwegian_holiday_dates('Langfredag', 3))\n"
   ]
  },
  {
   "cell_type": "markdown",
   "metadata": {},
   "source": [
    "\n",
    "4.\n",
    "If you have got this far- congrats! Try adding another API! \n",
    "This api: http://numbersapi.com can get cool facts about a given date. For instance, `http://numbersapi.com/8/9/date` gives gives fun facts about August 9th. \n",
    "Can you somehow combine it with some of the functions we have already got? "
   ]
  },
  {
   "cell_type": "code",
   "execution_count": 47,
   "metadata": {},
   "outputs": [
    {
     "name": "stdout",
     "output_type": "stream",
     "text": [
      "['April 9th is the day in 1969 that the \"Chicago Eight\" plead not guilty to federal charges of conspiracy to incite a riot at the 1968 Democratic National Convention in Chicago, Illinois.', \"April 1st is the day in 2001 that an EP-3E United States Navy surveillance aircraft collides with a Chinese People's Liberation Army Shenyang J-8 fighter jet.\", 'April 14th is the day in 1945 that Osijek, Croatia, is liberated from fascist occupation.']\n"
     ]
    }
   ],
   "source": [
    "URL_FACTS = 'http://numbersapi.com/'\n",
    "\n",
    "def get_facts(list_of_dates):   \n",
    "    fact_ls = []\n",
    "    for date in list_of_dates:\n",
    "        date_ls = []\n",
    "        date_ls.append(date[5:7])\n",
    "        date_ls.append(date[8:10])\n",
    "        fact_ls.append(date_ls)\n",
    "    \n",
    "    for c,date_list in enumerate(fact_ls):\n",
    "        for x,date in enumerate(date_list):\n",
    "            if date[0] == '0':\n",
    "                fact_ls[c][x] = date[1]\n",
    "    \n",
    "    f_ls = []\n",
    "    for i in fact_ls:\n",
    "        response_facts = requests.get(f'{URL_FACTS}{i[0]}/{i[1]}')\n",
    "        if not response_facts.ok:\n",
    "            return 'This didnt work'\n",
    "            break\n",
    "        else:\n",
    "            f_ls.append(response_facts.text)\n",
    "    return f_ls\n",
    "\n",
    "print(get_facts(get_norwegian_holiday_dates('Skjærtorsdag', 3)))"
   ]
  },
  {
   "cell_type": "code",
   "execution_count": null,
   "metadata": {},
   "outputs": [],
   "source": []
  }
 ],
 "metadata": {
  "kernelspec": {
   "display_name": "Python 3.9.1 64-bit",
   "language": "python",
   "name": "python3"
  },
  "language_info": {
   "codemirror_mode": {
    "name": "ipython",
    "version": 3
   },
   "file_extension": ".py",
   "mimetype": "text/x-python",
   "name": "python",
   "nbconvert_exporter": "python",
   "pygments_lexer": "ipython3",
   "version": "3.9.1"
  },
  "orig_nbformat": 4,
  "vscode": {
   "interpreter": {
    "hash": "397704579725e15f5c7cb49fe5f0341eb7531c82d19f2c29d197e8b64ab5776b"
   }
  }
 },
 "nbformat": 4,
 "nbformat_minor": 2
}
