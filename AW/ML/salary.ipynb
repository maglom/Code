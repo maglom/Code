{
 "cells": [
  {
   "cell_type": "markdown",
   "metadata": {},
   "source": [
    "# Salary predictions in the data scientist field\n",
    "## Imports\n",
    "Importing the libraries we are gonne use"
   ]
  },
  {
   "cell_type": "code",
   "execution_count": 6,
   "metadata": {},
   "outputs": [],
   "source": [
    "import sklearn.preprocessing as pre\n",
    "import matplotlib.pyplot as plt\n",
    "import pandas as pd\n",
    "import numpy as np\n",
    "from sklearn.neighbors import KNeighborsRegressor\n",
    "from sklearn.linear_model import LinearRegression\n",
    "from sklearn.model_selection import train_test_split\n",
    "from sklearn.metrics import mean_squared_error, mean_absolute_error\n",
    "%matplotlib inline\n"
   ]
  },
  {
   "cell_type": "markdown",
   "metadata": {},
   "source": [
    "## Initializing dataframe\n",
    "Reading the CSV and making our dataframe from the data"
   ]
  },
  {
   "cell_type": "code",
   "execution_count": 7,
   "metadata": {},
   "outputs": [
    {
     "data": {
      "text/plain": [
       "Index(['work_year', 'experience_level', 'employment_type', 'job_title',\n",
       "       'salary_in_usd', 'remote_ratio', 'company_size'],\n",
       "      dtype='object')"
      ]
     },
     "execution_count": 7,
     "metadata": {},
     "output_type": "execute_result"
    }
   ],
   "source": [
    "df = pd.read_csv(r'C:\\Users\\magnu\\Documents\\Code\\AW\\ML\\ds_salaries.csv')\n",
    "df.drop(['Unnamed: 0','employee_residence', 'company_location', 'salary_currency', 'salary'], axis=1, inplace=True)\n",
    "df.columns"
   ]
  },
  {
   "cell_type": "markdown",
   "metadata": {},
   "source": [
    "## OneHotEncoder\n",
    "Using OneHotEncoder to \"numberize\" textfields"
   ]
  },
  {
   "cell_type": "code",
   "execution_count": 8,
   "metadata": {},
   "outputs": [
    {
     "name": "stdout",
     "output_type": "stream",
     "text": [
      "Index(['work_year', 'salary_in_usd', 'remote_ratio', 'experience_level_EN',\n",
      "       'experience_level_EX', 'experience_level_MI', 'experience_level_SE',\n",
      "       'employment_type_CT', 'employment_type_FL', 'employment_type_FT',\n",
      "       'employment_type_PT', 'job_title_3D Computer Vision Researcher',\n",
      "       'job_title_AI Scientist', 'job_title_Analytics Engineer',\n",
      "       'job_title_Applied Data Scientist',\n",
      "       'job_title_Applied Machine Learning Scientist',\n",
      "       'job_title_BI Data Analyst', 'job_title_Big Data Architect',\n",
      "       'job_title_Big Data Engineer', 'job_title_Business Data Analyst',\n",
      "       'job_title_Cloud Data Engineer', 'job_title_Computer Vision Engineer',\n",
      "       'job_title_Computer Vision Software Engineer', 'job_title_Data Analyst',\n",
      "       'job_title_Data Analytics Engineer', 'job_title_Data Analytics Lead',\n",
      "       'job_title_Data Analytics Manager', 'job_title_Data Architect',\n",
      "       'job_title_Data Engineer', 'job_title_Data Engineering Manager',\n",
      "       'job_title_Data Science Consultant', 'job_title_Data Science Engineer',\n",
      "       'job_title_Data Science Manager', 'job_title_Data Scientist',\n",
      "       'job_title_Data Specialist', 'job_title_Director of Data Engineering',\n",
      "       'job_title_Director of Data Science', 'job_title_ETL Developer',\n",
      "       'job_title_Finance Data Analyst', 'job_title_Financial Data Analyst',\n",
      "       'job_title_Head of Data', 'job_title_Head of Data Science',\n",
      "       'job_title_Head of Machine Learning', 'job_title_Lead Data Analyst',\n",
      "       'job_title_Lead Data Engineer', 'job_title_Lead Data Scientist',\n",
      "       'job_title_Lead Machine Learning Engineer', 'job_title_ML Engineer',\n",
      "       'job_title_Machine Learning Developer',\n",
      "       'job_title_Machine Learning Engineer',\n",
      "       'job_title_Machine Learning Infrastructure Engineer',\n",
      "       'job_title_Machine Learning Manager',\n",
      "       'job_title_Machine Learning Scientist',\n",
      "       'job_title_Marketing Data Analyst', 'job_title_NLP Engineer',\n",
      "       'job_title_Principal Data Analyst', 'job_title_Principal Data Engineer',\n",
      "       'job_title_Principal Data Scientist', 'job_title_Product Data Analyst',\n",
      "       'job_title_Research Scientist', 'job_title_Staff Data Scientist',\n",
      "       'company_size_L', 'company_size_M', 'company_size_S'],\n",
      "      dtype='object')\n"
     ]
    }
   ],
   "source": [
    "def onehot(column, df):\n",
    "    cat_enc = pre.OneHotEncoder()\n",
    "    cat_enc.fit(df[[column]])\n",
    "    exp_lvl_columns = cat_enc.transform(df[[column]]).toarray()\n",
    "    df1 = pd.DataFrame(exp_lvl_columns, columns=cat_enc.get_feature_names_out())\n",
    "    df = pd.concat([df, df1], axis=1)\n",
    "    df.drop(column, axis=1, inplace=True)\n",
    "    return df\n",
    "\n",
    "df = onehot('experience_level', df)\n",
    "df = onehot('employment_type', df)\n",
    "df = onehot('job_title', df)\n",
    "df = onehot('company_size', df)\n",
    "\n",
    "print(df.columns)\n"
   ]
  },
  {
   "cell_type": "markdown",
   "metadata": {},
   "source": [
    "## Splitting data\n",
    "Splitting the data up in test and training sets, and defining label and features."
   ]
  },
  {
   "cell_type": "code",
   "execution_count": 9,
   "metadata": {},
   "outputs": [],
   "source": [
    "y_column = 'salary_in_usd'\n",
    "x_columns = ['remote_ratio', 'experience_level_EN',\n",
    "       'experience_level_EX', 'experience_level_MI', 'experience_level_SE',\n",
    "       'employment_type_CT', 'employment_type_FL', 'employment_type_FT',\n",
    "       'employment_type_PT', 'job_title_3D Computer Vision Researcher',\n",
    "       'job_title_AI Scientist', 'job_title_Analytics Engineer',\n",
    "       'job_title_Applied Data Scientist',\n",
    "       'job_title_Applied Machine Learning Scientist',\n",
    "       'job_title_BI Data Analyst', 'job_title_Big Data Architect',\n",
    "       'job_title_Big Data Engineer', 'job_title_Business Data Analyst',\n",
    "       'job_title_Cloud Data Engineer', 'job_title_Computer Vision Engineer',\n",
    "       'job_title_Computer Vision Software Engineer', 'job_title_Data Analyst',\n",
    "       'job_title_Data Analytics Engineer', 'job_title_Data Analytics Lead',\n",
    "       'job_title_Data Analytics Manager', 'job_title_Data Architect',\n",
    "       'job_title_Data Engineer', 'job_title_Data Engineering Manager',\n",
    "       'job_title_Data Science Consultant', 'job_title_Data Science Engineer',\n",
    "       'job_title_Data Science Manager', 'job_title_Data Scientist',\n",
    "       'job_title_Data Specialist', 'job_title_Director of Data Engineering',\n",
    "       'job_title_Director of Data Science', 'job_title_ETL Developer',\n",
    "       'job_title_Finance Data Analyst', 'job_title_Financial Data Analyst',\n",
    "       'job_title_Head of Data', 'job_title_Head of Data Science',\n",
    "       'job_title_Head of Machine Learning', 'job_title_Lead Data Analyst',\n",
    "       'job_title_Lead Data Engineer', 'job_title_Lead Data Scientist',\n",
    "       'job_title_Lead Machine Learning Engineer', 'job_title_ML Engineer',\n",
    "       'job_title_Machine Learning Developer',\n",
    "       'job_title_Machine Learning Engineer',\n",
    "       'job_title_Machine Learning Infrastructure Engineer',\n",
    "       'job_title_Machine Learning Manager',\n",
    "       'job_title_Machine Learning Scientist',\n",
    "       'job_title_Marketing Data Analyst', 'job_title_NLP Engineer',\n",
    "       'job_title_Principal Data Analyst', 'job_title_Principal Data Engineer',\n",
    "       'job_title_Principal Data Scientist', 'job_title_Product Data Analyst',\n",
    "       'job_title_Research Scientist', 'job_title_Staff Data Scientist',\n",
    "       'company_size_L', 'company_size_M', 'company_size_S']\n",
    "X_train, X_test, y_train, y_test = train_test_split(df[x_columns], df[y_column])"
   ]
  },
  {
   "cell_type": "markdown",
   "metadata": {},
   "source": [
    "## LinearRegression\n",
    "Fitting and and testing out model"
   ]
  },
  {
   "cell_type": "code",
   "execution_count": 10,
   "metadata": {},
   "outputs": [
    {
     "name": "stdout",
     "output_type": "stream",
     "text": [
      "1.3168121163415923e+27 5886675058959.553\n"
     ]
    },
    {
     "data": {
      "text/plain": [
       "-2.4522031138077552e+17"
      ]
     },
     "execution_count": 10,
     "metadata": {},
     "output_type": "execute_result"
    }
   ],
   "source": [
    "model = LinearRegression()\n",
    "model.fit(X=X_train, y=y_train)\n",
    "y_pred = model.predict(X_test)\n",
    "print(mean_squared_error(y_test, y_pred), mean_absolute_error(y_test, y_pred))\n",
    "model.score(X=X_test, y=y_test)"
   ]
  },
  {
   "cell_type": "markdown",
   "metadata": {},
   "source": [
    "## KNeighborsRegressor\n",
    "Fitting and and testing out model"
   ]
  },
  {
   "cell_type": "code",
   "execution_count": 11,
   "metadata": {},
   "outputs": [
    {
     "name": "stdout",
     "output_type": "stream",
     "text": [
      "4162335258.1232076 45200.27532894737\n"
     ]
    },
    {
     "data": {
      "text/plain": [
       "0.224878678285659"
      ]
     },
     "execution_count": 11,
     "metadata": {},
     "output_type": "execute_result"
    }
   ],
   "source": [
    "model = KNeighborsRegressor(20)\n",
    "model.fit(X=X_train, y=y_train)\n",
    "y_pred = model.predict(X_test)\n",
    "print(mean_squared_error(y_test, y_pred), mean_absolute_error(y_test, y_pred))\n",
    "model.score(X=X_test, y=y_test)"
   ]
  }
 ],
 "metadata": {
  "kernelspec": {
   "display_name": "Python 3.10.2 64-bit",
   "language": "python",
   "name": "python3"
  },
  "language_info": {
   "codemirror_mode": {
    "name": "ipython",
    "version": 3
   },
   "file_extension": ".py",
   "mimetype": "text/x-python",
   "name": "python",
   "nbconvert_exporter": "python",
   "pygments_lexer": "ipython3",
   "version": "3.10.2"
  },
  "orig_nbformat": 4,
  "vscode": {
   "interpreter": {
    "hash": "a74f7ce21f6bee90c696f81c1b05feea5b0771b1a6bf085ce5fd8f9cc559567a"
   }
  }
 },
 "nbformat": 4,
 "nbformat_minor": 2
}
