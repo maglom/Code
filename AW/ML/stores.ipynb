{
 "cells": [
  {
   "cell_type": "code",
   "execution_count": 119,
   "metadata": {},
   "outputs": [],
   "source": [
    "import sklearn.preprocessing as pre\n",
    "import matplotlib.pyplot as plt\n",
    "import pandas as pd\n",
    "import numpy as np\n",
    "from sklearn.neighbors import KNeighborsRegressor\n",
    "from sklearn.linear_model import LinearRegression\n",
    "from sklearn.model_selection import train_test_split\n",
    "from sklearn.metrics import mean_squared_error, mean_absolute_error\n",
    "%matplotlib inline\n"
   ]
  },
  {
   "cell_type": "code",
   "execution_count": 120,
   "metadata": {},
   "outputs": [],
   "source": [
    "df = pd.read_csv('Stores.csv')\n",
    "df.describe()\n",
    "df.drop('Store ID ', axis=1, inplace=True)\n"
   ]
  },
  {
   "cell_type": "code",
   "execution_count": 121,
   "metadata": {},
   "outputs": [
    {
     "data": {
      "text/plain": [
       "array([[<AxesSubplot:title={'center':'Store_Area'}>,\n",
       "        <AxesSubplot:title={'center':'Items_Available'}>],\n",
       "       [<AxesSubplot:title={'center':'Daily_Customer_Count'}>,\n",
       "        <AxesSubplot:title={'center':'Store_Sales'}>]], dtype=object)"
      ]
     },
     "execution_count": 121,
     "metadata": {},
     "output_type": "execute_result"
    },
    {
     "data": {
      "image/png": "[encoded data removed]",
      "text/plain": [
       "<Figure size 432x288 with 4 Axes>"
      ]
     },
     "metadata": {
      "needs_background": "light"
     },
     "output_type": "display_data"
    }
   ],
   "source": [
    "df.hist()\n"
   ]
  },
  {
   "cell_type": "code",
   "execution_count": 122,
   "metadata": {},
   "outputs": [
    {
     "data": {
      "text/html": [
       "<div>\n",
       "<style scoped>\n",
       "    .dataframe tbody tr th:only-of-type {\n",
       "        vertical-align: middle;\n",
       "    }\n",
       "\n",
       "    .dataframe tbody tr th {\n",
       "        vertical-align: top;\n",
       "    }\n",
       "\n",
       "    .dataframe thead th {\n",
       "        text-align: right;\n",
       "    }\n",
       "</style>\n",
       "<table border=\"1\" class=\"dataframe\">\n",
       "  <thead>\n",
       "    <tr style=\"text-align: right;\">\n",
       "      <th></th>\n",
       "      <th>Store_Area</th>\n",
       "      <th>Items_Available</th>\n",
       "      <th>Daily_Customer_Count</th>\n",
       "      <th>Store_Sales</th>\n",
       "    </tr>\n",
       "  </thead>\n",
       "  <tbody>\n",
       "    <tr>\n",
       "      <th>Store_Area</th>\n",
       "      <td>1.000000</td>\n",
       "      <td>0.998891</td>\n",
       "      <td>-0.041423</td>\n",
       "      <td>0.097474</td>\n",
       "    </tr>\n",
       "    <tr>\n",
       "      <th>Items_Available</th>\n",
       "      <td>0.998891</td>\n",
       "      <td>1.000000</td>\n",
       "      <td>-0.040978</td>\n",
       "      <td>0.098849</td>\n",
       "    </tr>\n",
       "    <tr>\n",
       "      <th>Daily_Customer_Count</th>\n",
       "      <td>-0.041423</td>\n",
       "      <td>-0.040978</td>\n",
       "      <td>1.000000</td>\n",
       "      <td>0.008629</td>\n",
       "    </tr>\n",
       "    <tr>\n",
       "      <th>Store_Sales</th>\n",
       "      <td>0.097474</td>\n",
       "      <td>0.098849</td>\n",
       "      <td>0.008629</td>\n",
       "      <td>1.000000</td>\n",
       "    </tr>\n",
       "  </tbody>\n",
       "</table>\n",
       "</div>"
      ],
      "text/plain": [
       "                      Store_Area  Items_Available  Daily_Customer_Count  \\\n",
       "Store_Area              1.000000         0.998891             -0.041423   \n",
       "Items_Available         0.998891         1.000000             -0.040978   \n",
       "Daily_Customer_Count   -0.041423        -0.040978              1.000000   \n",
       "Store_Sales             0.097474         0.098849              0.008629   \n",
       "\n",
       "                      Store_Sales  \n",
       "Store_Area               0.097474  \n",
       "Items_Available          0.098849  \n",
       "Daily_Customer_Count     0.008629  \n",
       "Store_Sales              1.000000  "
      ]
     },
     "execution_count": 122,
     "metadata": {},
     "output_type": "execute_result"
    }
   ],
   "source": [
    "df.corr()\n"
   ]
  },
  {
   "cell_type": "code",
   "execution_count": 123,
   "metadata": {},
   "outputs": [],
   "source": [
    "x_columns = 'Store_Area'\n",
    "y_column = 'Items_Available'\n"
   ]
  },
  {
   "cell_type": "code",
   "execution_count": 124,
   "metadata": {},
   "outputs": [
    {
     "data": {
      "text/html": [
       "<div>\n",
       "<style scoped>\n",
       "    .dataframe tbody tr th:only-of-type {\n",
       "        vertical-align: middle;\n",
       "    }\n",
       "\n",
       "    .dataframe tbody tr th {\n",
       "        vertical-align: top;\n",
       "    }\n",
       "\n",
       "    .dataframe thead th {\n",
       "        text-align: right;\n",
       "    }\n",
       "</style>\n",
       "<table border=\"1\" class=\"dataframe\">\n",
       "  <thead>\n",
       "    <tr style=\"text-align: right;\">\n",
       "      <th></th>\n",
       "      <th>Store_Area</th>\n",
       "      <th>Items_Available</th>\n",
       "      <th>Daily_Customer_Count</th>\n",
       "      <th>Store_Sales</th>\n",
       "    </tr>\n",
       "  </thead>\n",
       "  <tbody>\n",
       "    <tr>\n",
       "      <th>0</th>\n",
       "      <td>0.607978</td>\n",
       "      <td>1961</td>\n",
       "      <td>530</td>\n",
       "      <td>66490</td>\n",
       "    </tr>\n",
       "    <tr>\n",
       "      <th>1</th>\n",
       "      <td>0.471802</td>\n",
       "      <td>1752</td>\n",
       "      <td>210</td>\n",
       "      <td>39820</td>\n",
       "    </tr>\n",
       "    <tr>\n",
       "      <th>2</th>\n",
       "      <td>0.388583</td>\n",
       "      <td>1609</td>\n",
       "      <td>720</td>\n",
       "      <td>54010</td>\n",
       "    </tr>\n",
       "    <tr>\n",
       "      <th>3</th>\n",
       "      <td>0.464924</td>\n",
       "      <td>1748</td>\n",
       "      <td>620</td>\n",
       "      <td>53730</td>\n",
       "    </tr>\n",
       "    <tr>\n",
       "      <th>4</th>\n",
       "      <td>0.684319</td>\n",
       "      <td>2111</td>\n",
       "      <td>450</td>\n",
       "      <td>46620</td>\n",
       "    </tr>\n",
       "    <tr>\n",
       "      <th>...</th>\n",
       "      <td>...</td>\n",
       "      <td>...</td>\n",
       "      <td>...</td>\n",
       "      <td>...</td>\n",
       "    </tr>\n",
       "    <tr>\n",
       "      <th>891</th>\n",
       "      <td>0.555021</td>\n",
       "      <td>1910</td>\n",
       "      <td>1080</td>\n",
       "      <td>66390</td>\n",
       "    </tr>\n",
       "    <tr>\n",
       "      <th>892</th>\n",
       "      <td>0.420908</td>\n",
       "      <td>1663</td>\n",
       "      <td>850</td>\n",
       "      <td>82080</td>\n",
       "    </tr>\n",
       "    <tr>\n",
       "      <th>893</th>\n",
       "      <td>0.292297</td>\n",
       "      <td>1436</td>\n",
       "      <td>1060</td>\n",
       "      <td>76440</td>\n",
       "    </tr>\n",
       "    <tr>\n",
       "      <th>894</th>\n",
       "      <td>0.360385</td>\n",
       "      <td>1560</td>\n",
       "      <td>770</td>\n",
       "      <td>96610</td>\n",
       "    </tr>\n",
       "    <tr>\n",
       "      <th>895</th>\n",
       "      <td>0.274415</td>\n",
       "      <td>1429</td>\n",
       "      <td>1110</td>\n",
       "      <td>54340</td>\n",
       "    </tr>\n",
       "  </tbody>\n",
       "</table>\n",
       "<p>896 rows × 4 columns</p>\n",
       "</div>"
      ],
      "text/plain": [
       "     Store_Area  Items_Available  Daily_Customer_Count  Store_Sales\n",
       "0      0.607978             1961                   530        66490\n",
       "1      0.471802             1752                   210        39820\n",
       "2      0.388583             1609                   720        54010\n",
       "3      0.464924             1748                   620        53730\n",
       "4      0.684319             2111                   450        46620\n",
       "..          ...              ...                   ...          ...\n",
       "891    0.555021             1910                  1080        66390\n",
       "892    0.420908             1663                   850        82080\n",
       "893    0.292297             1436                  1060        76440\n",
       "894    0.360385             1560                   770        96610\n",
       "895    0.274415             1429                  1110        54340\n",
       "\n",
       "[896 rows x 4 columns]"
      ]
     },
     "execution_count": 124,
     "metadata": {},
     "output_type": "execute_result"
    }
   ],
   "source": [
    "minmax = pre.MinMaxScaler()\n",
    "minmax.fit(df[[x_columns]])\n",
    "df[x_columns] = minmax.transform(df[[x_columns]])\n",
    "df"
   ]
  },
  {
   "cell_type": "code",
   "execution_count": 125,
   "metadata": {},
   "outputs": [],
   "source": [
    "X_train, X_test, y_train, y_test = train_test_split(\n",
    "    df[x_columns], df[y_column])\n",
    "X_train = np.c_[X_train]\n",
    "X_test = np.c_[X_test]\n",
    "y_train = np.c_[y_train]\n",
    "y_test = np.c_[y_test]"
   ]
  },
  {
   "cell_type": "code",
   "execution_count": 139,
   "metadata": {},
   "outputs": [],
   "source": [
    "model = KNeighborsRegressor(7)\n",
    "model.fit(X=X_train, y=y_train)\n",
    "y_predict = model.predict(X_test)\n"
   ]
  },
  {
   "cell_type": "code",
   "execution_count": 140,
   "metadata": {},
   "outputs": [
    {
     "name": "stdout",
     "output_type": "stream",
     "text": [
      "305.7975583090382 12.940051020408166\n"
     ]
    },
    {
     "data": {
      "text/plain": [
       "0.9965040826507411"
      ]
     },
     "execution_count": 140,
     "metadata": {},
     "output_type": "execute_result"
    }
   ],
   "source": [
    "\n",
    "mse = mean_squared_error(y_test, y_predict)\n",
    "mae = mean_absolute_error(y_test, y_predict)\n",
    "print(mse, mae)\n",
    "model.score(X_test, y_test)\n"
   ]
  },
  {
   "cell_type": "code",
   "execution_count": null,
   "metadata": {},
   "outputs": [],
   "source": []
  }
 ],
 "metadata": {
  "kernelspec": {
   "display_name": "Python 3.10.2 64-bit",
   "language": "python",
   "name": "python3"
  },
  "language_info": {
   "codemirror_mode": {
    "name": "ipython",
    "version": 3
   },
   "file_extension": ".py",
   "mimetype": "text/x-python",
   "name": "python",
   "nbconvert_exporter": "python",
   "pygments_lexer": "ipython3",
   "version": "3.10.2"
  },
  "orig_nbformat": 4,
  "vscode": {
   "interpreter": {
    "hash": "a74f7ce21f6bee90c696f81c1b05feea5b0771b1a6bf085ce5fd8f9cc559567a"
   }
  }
 },
 "nbformat": 4,
 "nbformat_minor": 2
}
