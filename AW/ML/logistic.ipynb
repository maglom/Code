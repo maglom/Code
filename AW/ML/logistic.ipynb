{
 "cells": [
  {
   "cell_type": "code",
   "execution_count": 2,
   "metadata": {},
   "outputs": [],
   "source": [
    "import numpy as np\n",
    "from sklearn.datasets import fetch_openml\n",
    "from sklearn.model_selection import train_test_split\n",
    "from sklearn.linear_model import LogisticRegression\n",
    "from sklearn.metrics import confusion_matrix\n",
    "from sklearn.metrics import accuracy_score\n",
    "mnist = fetch_openml('mnist_784', version=1)\n"
   ]
  },
  {
   "cell_type": "code",
   "execution_count": 3,
   "metadata": {},
   "outputs": [
    {
     "name": "stdout",
     "output_type": "stream",
     "text": [
      "dict_keys(['data', 'target', 'frame', 'categories', 'feature_names', 'target_names', 'DESCR', 'details', 'url'])\n",
      "(70000, 784)\n",
      "(70000,)\n"
     ]
    }
   ],
   "source": [
    "# mnist is a dictionary, with the following keys\n",
    "print(mnist.keys())\n",
    "# Use mnist['DESCR'] to read more information about the data\n",
    "# Extract features and labels\n",
    "X = np.c_[mnist['data']]\n",
    "y = np.c_[mnist['target']].reshape(-1)\n",
    "# investigate data\n",
    "print(X.shape)  # 70000 images, with 784 pixels\n",
    "print(y.shape)  # 70000 labels of which number the picture is of\n"
   ]
  },
  {
   "cell_type": "code",
   "execution_count": 4,
   "metadata": {},
   "outputs": [
    {
     "data": {
      "image/png": "[encoded data removed]",
      "text/plain": [
       "<Figure size 432x288 with 1 Axes>"
      ]
     },
     "metadata": {
      "needs_background": "light"
     },
     "output_type": "display_data"
    },
    {
     "name": "stdout",
     "output_type": "stream",
     "text": [
      "4\n",
      "<class 'str'>\n",
      "<class 'numpy.uint8'>\n"
     ]
    }
   ],
   "source": [
    "# extract single digit\n",
    "import matplotlib.pyplot as plt\n",
    "instance_index = 2\n",
    "single_digit = X[instance_index, :]\n",
    "single_digit_image = single_digit.reshape(28, 28)\n",
    "# plot the digit\n",
    "plt.imshow(single_digit_image, cmap='binary')\n",
    "plt.axis('off')\n",
    "plt.show()\n",
    "# each instance is a and drawn digit between 0 and 1 (28X28 pixels equals 784 flatten pixels)\n",
    "print(y[instance_index])\n",
    "print(type(y[instance_index]))  # every label is a string\n",
    "# change labels to number\n",
    "y = y.astype(np.uint8)\n",
    "print(type(y[instance_index]))  # every label is now numeric\n",
    "# np.max(X)\n"
   ]
  },
  {
   "cell_type": "code",
   "execution_count": 5,
   "metadata": {},
   "outputs": [],
   "source": [
    "X_train, X_test, y_train, y_test = train_test_split(X,y, test_size=0.1, random_state=420)"
   ]
  },
  {
   "cell_type": "code",
   "execution_count": 6,
   "metadata": {},
   "outputs": [],
   "source": [
    "X_train = X_train / 255\n",
    "X_test = X_test / 255"
   ]
  },
  {
   "cell_type": "code",
   "execution_count": 7,
   "metadata": {},
   "outputs": [],
   "source": [
    "y_train__is5 = np.c_[[1 if i == 5 else 0 for i in y_train]].reshape(-1)\n",
    "y_test__is5 = np.c_[[1 if i == 5 else 0 for i in y_test]].reshape(-1)"
   ]
  },
  {
   "cell_type": "code",
   "execution_count": 8,
   "metadata": {},
   "outputs": [],
   "source": [
    "model = LogisticRegression(max_iter=1000)\n",
    "model.fit(X_train, y_train__is5)\n",
    "y_pred = model.predict(X_test)\n"
   ]
  },
  {
   "cell_type": "code",
   "execution_count": 23,
   "metadata": {},
   "outputs": [
    {
     "data": {
      "text/plain": [
       "(array([[6333,   49],\n",
       "        [ 109,  509]], dtype=int64),\n",
       " 0.9923221560639298,\n",
       " 0.9830797888854393)"
      ]
     },
     "execution_count": 23,
     "metadata": {},
     "output_type": "execute_result"
    }
   ],
   "source": [
    "def cm_pr_re(y_true, y_pred):\n",
    "    cm = confusion_matrix(y_true, y_pred)\n",
    "    precision = cm[0,0] / (cm[0,0] + cm[0,1])\n",
    "    recall = cm[0,0] / (cm[0,0] + cm[1,0])\n",
    "    return(cm, precision, recall)\n",
    "\n",
    "cm_pr_re(y_test__is5, y_pred)"
   ]
  },
  {
   "cell_type": "code",
   "execution_count": 10,
   "metadata": {},
   "outputs": [
    {
     "name": "stdout",
     "output_type": "stream",
     "text": [
      "[[6382    0]\n",
      " [ 618    0]] 1.0 0.9117142857142857\n"
     ]
    }
   ],
   "source": [
    "test_0 = y_test__is5 * 0\n",
    "cm_pr_re(y_test__is5, test_0)"
   ]
  },
  {
   "cell_type": "markdown",
   "metadata": {},
   "source": [
    "### Oppgave 7"
   ]
  },
  {
   "cell_type": "code",
   "execution_count": 15,
   "metadata": {},
   "outputs": [],
   "source": [
    "y_proba = model.predict_proba(X_test)\n",
    "def threshold(thresh):\n",
    "    for x,i in enumerate(y_proba[:,1]):\n",
    "        if i > thresh:\n",
    "            y_proba[x,1] = 1\n",
    "        else:\n",
    "            y_proba[x,1] = 0\n",
    "threshold(0.9)"
   ]
  },
  {
   "cell_type": "code",
   "execution_count": 16,
   "metadata": {},
   "outputs": [
    {
     "name": "stdout",
     "output_type": "stream",
     "text": [
      "[[6377    5]\n",
      " [ 296  322]] 0.9992165465371357 0.9556421399670313\n"
     ]
    }
   ],
   "source": [
    "cm_pr_re(y_test__is5, y_proba[:,1])"
   ]
  },
  {
   "cell_type": "code",
   "execution_count": 27,
   "metadata": {},
   "outputs": [
    {
     "name": "stderr",
     "output_type": "stream",
     "text": [
      "C:\\Users\\magnu\\AppData\\Local\\Temp\\ipykernel_19824\\1330540971.py:4: RuntimeWarning: invalid value encountered in longlong_scalars\n",
      "  recall = cm[0,0] / (cm[0,0] + cm[1,0])\n"
     ]
    },
    {
     "name": "stdout",
     "output_type": "stream",
     "text": [
      "0.0 31910\n",
      "0.01 9430\n",
      "0.02 7305\n",
      "0.03 6380\n",
      "0.04 5830\n",
      "0.05 5435\n",
      "0.06 5060\n",
      "0.07 4965\n",
      "0.08 4925\n",
      "0.09 5060\n",
      "0.1 4905\n",
      "0.11 4935\n",
      "0.12 4975\n",
      "0.13 5145\n",
      "0.14 5345\n",
      "0.15 5275\n",
      "0.16 5325\n",
      "0.17 5555\n",
      "0.18 5585\n",
      "0.19 5830\n",
      "0.2 5875\n",
      "0.21 5820\n",
      "0.22 6055\n",
      "0.23 6015\n",
      "0.24 6060\n",
      "0.25 6430\n",
      "0.26 6775\n",
      "0.27 6925\n",
      "0.28 7195\n",
      "0.29 7380\n",
      "0.3 7345\n",
      "0.31 7910\n",
      "0.32 8195\n",
      "0.33 8370\n",
      "0.34 8455\n",
      "0.35000000000000003 8445\n",
      "0.36 8525\n",
      "0.37 8610\n",
      "0.38 8900\n",
      "0.39 8885\n",
      "0.4 9165\n",
      "0.41000000000000003 9255\n",
      "0.42 9350\n",
      "0.43 9645\n",
      "0.44 9830\n",
      "0.45 9915\n",
      "0.46 10000\n",
      "0.47000000000000003 10185\n",
      "0.48 10670\n",
      "0.49 10955\n",
      "0.5 11145\n",
      "0.51 11435\n",
      "0.52 11615\n",
      "0.53 11700\n",
      "0.54 11790\n",
      "0.55 11975\n",
      "0.56 12050\n",
      "0.5700000000000001 12250\n",
      "0.58 12350\n",
      "0.59 13045\n",
      "0.6 13330\n",
      "0.61 13820\n",
      "0.62 14210\n",
      "0.63 14410\n",
      "0.64 14705\n",
      "0.65 14995\n",
      "0.66 15885\n",
      "0.67 16385\n",
      "0.68 16685\n",
      "0.6900000000000001 17185\n",
      "0.7000000000000001 17585\n",
      "0.71 18075\n",
      "0.72 18775\n",
      "0.73 19170\n",
      "0.74 19660\n",
      "0.75 19960\n",
      "0.76 20960\n",
      "0.77 21160\n",
      "0.78 21460\n",
      "0.79 21860\n",
      "0.8 22555\n",
      "0.81 23155\n",
      "0.8200000000000001 23955\n",
      "0.8300000000000001 24550\n",
      "0.84 25745\n",
      "0.85 26835\n",
      "0.86 27435\n",
      "0.87 27835\n",
      "0.88 28435\n",
      "0.89 29025\n",
      "0.9 29625\n",
      "0.91 30925\n",
      "0.92 32320\n",
      "0.93 34220\n",
      "0.9400000000000001 35620\n",
      "0.9500000000000001 38520\n",
      "0.96 40820\n",
      "0.97 43120\n",
      "0.98 47215\n",
      "0.99 51110\n"
     ]
    }
   ],
   "source": [
    "ls = [x * 0.01 for x in range(0, 100)]\n",
    "for i in ls:\n",
    "    y_proba = model.predict_proba(X_test)\n",
    "    threshold(i)\n",
    "    cm = cm_pr_re(y_test__is5, y_proba[:,1])[0]\n",
    "    sum = 0\n",
    "    sum += cm[1,0] * 100\n",
    "    sum += cm[0,1] * 5\n",
    "    print(i, sum)"
   ]
  },
  {
   "cell_type": "code",
   "execution_count": null,
   "metadata": {},
   "outputs": [],
   "source": []
  }
 ],
 "metadata": {
  "kernelspec": {
   "display_name": "Python 3.10.2 64-bit",
   "language": "python",
   "name": "python3"
  },
  "language_info": {
   "codemirror_mode": {
    "name": "ipython",
    "version": 3
   },
   "file_extension": ".py",
   "mimetype": "text/x-python",
   "name": "python",
   "nbconvert_exporter": "python",
   "pygments_lexer": "ipython3",
   "version": "3.10.2"
  },
  "orig_nbformat": 4,
  "vscode": {
   "interpreter": {
    "hash": "a74f7ce21f6bee90c696f81c1b05feea5b0771b1a6bf085ce5fd8f9cc559567a"
   }
  }
 },
 "nbformat": 4,
 "nbformat_minor": 2
}
